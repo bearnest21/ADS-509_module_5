{
 "cells": [
  {
   "attachments": {},
   "cell_type": "markdown",
   "id": "bce2bb89",
   "metadata": {},
   "source": [
    "# ADS 509 Assignment 5.1: Topic Modeling\n",
    "\n",
    "This notebook holds Assignment 5.1 for Module 5 in ADS 509, Applied Text Mining. Work through this notebook, writing code and answering questions where required. \n",
    "\n",
    "In this assignment you will work with a categorical corpus that accompanies `nltk`. You will build the three types of topic models described in Chapter 8 of _Blueprints for Text Analytics using Python_: NMF, LSA, and LDA. You will compare these models to the true categories. \n"
   ]
  },
  {
   "attachments": {},
   "cell_type": "markdown",
   "id": "d87e2c06",
   "metadata": {},
   "source": [
    "## General Assignment Instructions\n",
    "\n",
    "These instructions are included in every assignment, to remind you of the coding standards for the class. Feel free to delete this cell after reading it. \n",
    "\n",
    "One sign of mature code is conforming to a style guide. We recommend the [Google Python Style Guide](https://google.github.io/styleguide/pyguide.html). If you use a different style guide, please include a cell with a link. \n",
    "\n",
    "Your code should be relatively easy-to-read, sensibly commented, and clean. Writing code is a messy process, so please be sure to edit your final submission. Remove any cells that are not needed or parts of cells that contain unnecessary code. Remove inessential `import` statements and make sure that all such statements are moved into the designated cell. \n",
    "\n",
    "Make use of non-code cells for written commentary. These cells should be grammatical and clearly written. In some of these cells you will have questions to answer. The questions will be marked by a \"Q:\" and will have a corresponding \"A:\" spot for you. *Make sure to answer every question marked with a `Q:` for full credit.* \n"
   ]
  },
  {
   "cell_type": "code",
   "execution_count": 1,
   "id": "a85bce08",
   "metadata": {},
   "outputs": [
    {
     "name": "stdout",
     "output_type": "stream",
     "text": [
      "Requirement already satisfied: pyLDAvis==3.4.1 in c:\\users\\earne\\appdata\\local\\packages\\pythonsoftwarefoundation.python.3.11_qbz5n2kfra8p0\\localcache\\local-packages\\python311\\site-packages (3.4.1)\n",
      "Requirement already satisfied: numpy>=1.24.2 in c:\\users\\earne\\appdata\\local\\packages\\pythonsoftwarefoundation.python.3.11_qbz5n2kfra8p0\\localcache\\local-packages\\python311\\site-packages (from pyLDAvis==3.4.1) (1.24.3)\n",
      "Requirement already satisfied: scipy in c:\\users\\earne\\appdata\\local\\packages\\pythonsoftwarefoundation.python.3.11_qbz5n2kfra8p0\\localcache\\local-packages\\python311\\site-packages (from pyLDAvis==3.4.1) (1.10.1)\n",
      "Requirement already satisfied: pandas>=2.0.0 in c:\\users\\earne\\appdata\\local\\packages\\pythonsoftwarefoundation.python.3.11_qbz5n2kfra8p0\\localcache\\local-packages\\python311\\site-packages (from pyLDAvis==3.4.1) (2.0.2)\n",
      "Requirement already satisfied: joblib>=1.2.0 in c:\\users\\earne\\appdata\\local\\packages\\pythonsoftwarefoundation.python.3.11_qbz5n2kfra8p0\\localcache\\local-packages\\python311\\site-packages (from pyLDAvis==3.4.1) (1.2.0)\n",
      "Requirement already satisfied: jinja2 in c:\\users\\earne\\appdata\\local\\packages\\pythonsoftwarefoundation.python.3.11_qbz5n2kfra8p0\\localcache\\local-packages\\python311\\site-packages (from pyLDAvis==3.4.1) (3.1.2)\n",
      "Requirement already satisfied: numexpr in c:\\users\\earne\\appdata\\local\\packages\\pythonsoftwarefoundation.python.3.11_qbz5n2kfra8p0\\localcache\\local-packages\\python311\\site-packages (from pyLDAvis==3.4.1) (2.8.4)\n",
      "Requirement already satisfied: funcy in c:\\users\\earne\\appdata\\local\\packages\\pythonsoftwarefoundation.python.3.11_qbz5n2kfra8p0\\localcache\\local-packages\\python311\\site-packages (from pyLDAvis==3.4.1) (2.0)\n",
      "Requirement already satisfied: scikit-learn>=1.0.0 in c:\\users\\earne\\appdata\\local\\packages\\pythonsoftwarefoundation.python.3.11_qbz5n2kfra8p0\\localcache\\local-packages\\python311\\site-packages (from pyLDAvis==3.4.1) (1.2.2)\n",
      "Requirement already satisfied: gensim in c:\\users\\earne\\appdata\\local\\packages\\pythonsoftwarefoundation.python.3.11_qbz5n2kfra8p0\\localcache\\local-packages\\python311\\site-packages (from pyLDAvis==3.4.1) (4.3.1)\n",
      "Requirement already satisfied: setuptools in c:\\program files\\windowsapps\\pythonsoftwarefoundation.python.3.11_3.11.1264.0_x64__qbz5n2kfra8p0\\lib\\site-packages (from pyLDAvis==3.4.1) (65.5.0)\n",
      "Requirement already satisfied: python-dateutil>=2.8.2 in c:\\users\\earne\\appdata\\local\\packages\\pythonsoftwarefoundation.python.3.11_qbz5n2kfra8p0\\localcache\\local-packages\\python311\\site-packages (from pandas>=2.0.0->pyLDAvis==3.4.1) (2.8.2)\n",
      "Requirement already satisfied: pytz>=2020.1 in c:\\users\\earne\\appdata\\local\\packages\\pythonsoftwarefoundation.python.3.11_qbz5n2kfra8p0\\localcache\\local-packages\\python311\\site-packages (from pandas>=2.0.0->pyLDAvis==3.4.1) (2023.3)\n",
      "Requirement already satisfied: tzdata>=2022.1 in c:\\users\\earne\\appdata\\local\\packages\\pythonsoftwarefoundation.python.3.11_qbz5n2kfra8p0\\localcache\\local-packages\\python311\\site-packages (from pandas>=2.0.0->pyLDAvis==3.4.1) (2023.3)\n",
      "Requirement already satisfied: threadpoolctl>=2.0.0 in c:\\users\\earne\\appdata\\local\\packages\\pythonsoftwarefoundation.python.3.11_qbz5n2kfra8p0\\localcache\\local-packages\\python311\\site-packages (from scikit-learn>=1.0.0->pyLDAvis==3.4.1) (3.1.0)\n",
      "Requirement already satisfied: smart-open>=1.8.1 in c:\\users\\earne\\appdata\\local\\packages\\pythonsoftwarefoundation.python.3.11_qbz5n2kfra8p0\\localcache\\local-packages\\python311\\site-packages (from gensim->pyLDAvis==3.4.1) (6.3.0)\n",
      "Requirement already satisfied: MarkupSafe>=2.0 in c:\\users\\earne\\appdata\\local\\packages\\pythonsoftwarefoundation.python.3.11_qbz5n2kfra8p0\\localcache\\local-packages\\python311\\site-packages (from jinja2->pyLDAvis==3.4.1) (2.1.3)\n",
      "Requirement already satisfied: six>=1.5 in c:\\users\\earne\\appdata\\local\\packages\\pythonsoftwarefoundation.python.3.11_qbz5n2kfra8p0\\localcache\\local-packages\\python311\\site-packages (from python-dateutil>=2.8.2->pandas>=2.0.0->pyLDAvis==3.4.1) (1.16.0)\n"
     ]
    }
   ],
   "source": [
    "# These libraries may be useful to you\n",
    "\n",
    "!pip install pyLDAvis==3.4.1 --user\n",
    "\n",
    "#You need to restart the Kernel after installation.\n",
    "# You also need a Python version => 3.9.0"
   ]
  },
  {
   "cell_type": "code",
   "execution_count": 6,
   "id": "6107900e",
   "metadata": {},
   "outputs": [
    {
     "name": "stderr",
     "output_type": "stream",
     "text": [
      "[nltk_data] Downloading package brown to\n",
      "[nltk_data]     C:\\Users\\earne\\AppData\\Roaming\\nltk_data...\n",
      "[nltk_data]   Unzipping corpora\\brown.zip.\n"
     ]
    },
    {
     "data": {
      "text/plain": [
       "True"
      ]
     },
     "execution_count": 6,
     "metadata": {},
     "output_type": "execute_result"
    }
   ],
   "source": [
    "import nltk\n",
    "nltk.download('brown')"
   ]
  },
  {
   "cell_type": "code",
   "execution_count": 7,
   "id": "904e2fa6",
   "metadata": {},
   "outputs": [],
   "source": [
    "from nltk.corpus import brown\n",
    "\n",
    "import numpy as np\n",
    "import pandas as pd\n",
    "from tqdm.auto import tqdm\n",
    "\n",
    "import pyLDAvis\n",
    "import pyLDAvis.lda_model\n",
    "import pyLDAvis.gensim_models\n",
    "\n",
    "import spacy\n",
    "from sklearn.feature_extraction.text import TfidfVectorizer, CountVectorizer\n",
    "from sklearn.decomposition import NMF, TruncatedSVD, LatentDirichletAllocation\n",
    "\n",
    "from spacy.lang.en.stop_words import STOP_WORDS as stopwords\n",
    "\n",
    "from collections import Counter, defaultdict\n",
    "\n",
    "nlp = spacy.load('en_core_web_sm')"
   ]
  },
  {
   "cell_type": "code",
   "execution_count": null,
   "id": "a218df60",
   "metadata": {},
   "outputs": [],
   "source": [
    "# add any additional libaries you need here\n",
    "\n"
   ]
  },
  {
   "cell_type": "code",
   "execution_count": 8,
   "id": "494de237",
   "metadata": {},
   "outputs": [],
   "source": [
    "# This function comes from the BTAP repo.\n",
    "\n",
    "def display_topics(model, features, no_top_words=5):\n",
    "    for topic, words in enumerate(model.components_):\n",
    "        total = words.sum()\n",
    "        largest = words.argsort()[::-1] # invert sort order\n",
    "        print(\"\\nTopic %02d\" % topic)\n",
    "        for i in range(0, no_top_words):\n",
    "            print(\"  %s (%2.2f)\" % (features[largest[i]], abs(words[largest[i]]*100.0/total)))"
   ]
  },
  {
   "attachments": {},
   "cell_type": "markdown",
   "id": "a30a901c",
   "metadata": {},
   "source": [
    "## Getting to Know the Brown Corpus\n",
    "\n",
    "Let's spend a bit of time getting to know what's in the Brown corpus, our NLTK example of an \"overlapping\" corpus."
   ]
  },
  {
   "cell_type": "code",
   "execution_count": 9,
   "id": "457c59ed",
   "metadata": {},
   "outputs": [
    {
     "name": "stdout",
     "output_type": "stream",
     "text": [
      "For adventure we have 29 articles.\n",
      "For belles_lettres we have 75 articles.\n",
      "For editorial we have 27 articles.\n",
      "For fiction we have 29 articles.\n",
      "For government we have 30 articles.\n",
      "For hobbies we have 36 articles.\n",
      "For humor we have 9 articles.\n",
      "For learned we have 80 articles.\n",
      "For lore we have 48 articles.\n",
      "For mystery we have 24 articles.\n",
      "For news we have 44 articles.\n",
      "For religion we have 17 articles.\n",
      "For reviews we have 17 articles.\n",
      "For romance we have 29 articles.\n",
      "For science_fiction we have 6 articles.\n"
     ]
    }
   ],
   "source": [
    "# categories of articles in Brown corpus\n",
    "for category in brown.categories() :\n",
    "    print(f\"For {category} we have {len(brown.fileids(categories=category))} articles.\")"
   ]
  },
  {
   "attachments": {},
   "cell_type": "markdown",
   "id": "23fb133c",
   "metadata": {},
   "source": [
    "Let's create a dataframe of the articles in of hobbies, editorial, government, news, and romance."
   ]
  },
  {
   "cell_type": "code",
   "execution_count": 10,
   "id": "18f50b9d",
   "metadata": {},
   "outputs": [
    {
     "data": {
      "text/plain": [
       "(166, 3)"
      ]
     },
     "execution_count": 10,
     "metadata": {},
     "output_type": "execute_result"
    }
   ],
   "source": [
    "categories = ['editorial','government','news','romance','hobbies'] \n",
    "\n",
    "category_list = []\n",
    "file_ids = []\n",
    "texts = []\n",
    "\n",
    "for category in categories : \n",
    "    for file_id in brown.fileids(categories=category) :\n",
    "        \n",
    "        # build some lists for a dataframe\n",
    "        category_list.append(category)\n",
    "        file_ids.append(file_id)\n",
    "        \n",
    "        text = brown.words(fileids=file_id)\n",
    "        texts.append(\" \".join(text))\n",
    "\n",
    "        \n",
    "        \n",
    "df = pd.DataFrame()\n",
    "df['category'] = category_list\n",
    "df['id'] = file_ids\n",
    "df['text'] = texts \n",
    "\n",
    "df.shape"
   ]
  },
  {
   "cell_type": "code",
   "execution_count": 11,
   "id": "586f47de",
   "metadata": {},
   "outputs": [],
   "source": [
    "# Let's add some helpful columns on the df\n",
    "df['char_len'] = df['text'].apply(len)\n",
    "df['word_len'] = df['text'].apply(lambda x: len(x.split()))\n"
   ]
  },
  {
   "cell_type": "code",
   "execution_count": 16,
   "id": "2128fd2d",
   "metadata": {},
   "outputs": [
    {
     "data": {
      "text/plain": [
       "<Axes: xlabel='category'>"
      ]
     },
     "execution_count": 16,
     "metadata": {},
     "output_type": "execute_result"
    },
    {
     "data": {
      "image/png": "[encoded data removed]",
      "text/plain": [
       "<Figure size 1000x600 with 1 Axes>"
      ]
     },
     "metadata": {},
     "output_type": "display_data"
    }
   ],
   "source": [
    "%matplotlib inline\n",
    "df.groupby('category').agg({'word_len': 'mean'}).plot.bar(figsize=(10,6))"
   ]
  },
  {
   "attachments": {},
   "cell_type": "markdown",
   "id": "554ffeb5",
   "metadata": {},
   "source": [
    "Now do our TF-IDF and Count vectorizations."
   ]
  },
  {
   "cell_type": "code",
   "execution_count": 17,
   "id": "21a7d247",
   "metadata": {},
   "outputs": [
    {
     "name": "stderr",
     "output_type": "stream",
     "text": [
      "C:\\Users\\earne\\AppData\\Local\\Packages\\PythonSoftwareFoundation.Python.3.11_qbz5n2kfra8p0\\LocalCache\\local-packages\\Python311\\site-packages\\sklearn\\feature_extraction\\text.py:409: UserWarning: Your stop_words may be inconsistent with your preprocessing. Tokenizing the stop words generated tokens ['ll', 've'] not in stop_words.\n",
      "  warnings.warn(\n"
     ]
    },
    {
     "data": {
      "text/plain": [
       "(166, 4941)"
      ]
     },
     "execution_count": 17,
     "metadata": {},
     "output_type": "execute_result"
    }
   ],
   "source": [
    "count_text_vectorizer = CountVectorizer(stop_words=list(stopwords), min_df=5, max_df=0.7)\n",
    "count_text_vectors = count_text_vectorizer.fit_transform(df[\"text\"])\n",
    "count_text_vectors.shape"
   ]
  },
  {
   "cell_type": "code",
   "execution_count": 18,
   "id": "875deba9",
   "metadata": {},
   "outputs": [
    {
     "data": {
      "text/plain": [
       "(166, 4941)"
      ]
     },
     "execution_count": 18,
     "metadata": {},
     "output_type": "execute_result"
    }
   ],
   "source": [
    "tfidf_text_vectorizer = TfidfVectorizer(stop_words=list(stopwords), min_df=5, max_df=0.7)\n",
    "tfidf_text_vectors = tfidf_text_vectorizer.fit_transform(df['text'])\n",
    "tfidf_text_vectors.shape"
   ]
  },
  {
   "attachments": {},
   "cell_type": "markdown",
   "id": "a1062b21",
   "metadata": {},
   "source": [
    "Q: What do the two data frames `count_text_vectors` and `tfidf_text_vectors` hold? \n",
    "\n",
    "A: The 'count_text_vectors' data frame is a representation of frequency of each word in a document.  The rows will represent the documents, the columns represent words that occure in the corpus, and each cell represents a count of how many times each word occurs in a document.  The \"tfidf_text_vectors' data frame, on the other hand, doesn't just accout for how often a word occures, but also attempts to account for the importance of the word across all of the documents.  It will assign more importance to a word that occurs frequently in one document, but rarely across the entire corpus of documents.  "
   ]
  },
  {
   "attachments": {},
   "cell_type": "markdown",
   "id": "f77c3f94",
   "metadata": {},
   "source": [
    "## Fitting a Non-Negative Matrix Factorization Model\n",
    "\n",
    "In this section the code to fit a five-topic NMF model has already been written. This code comes directly from the [BTAP repo](https://github.com/blueprints-for-text-analytics-python/blueprints-text), which will help you tremendously in the coming sections. "
   ]
  },
  {
   "cell_type": "code",
   "execution_count": 19,
   "id": "d28745a3",
   "metadata": {},
   "outputs": [],
   "source": [
    "nmf_text_model = NMF(n_components=5, random_state=314)\n",
    "W_text_matrix = nmf_text_model.fit_transform(tfidf_text_vectors)\n",
    "H_text_matrix = nmf_text_model.components_"
   ]
  },
  {
   "cell_type": "code",
   "execution_count": 20,
   "id": "a67185e7",
   "metadata": {},
   "outputs": [
    {
     "name": "stdout",
     "output_type": "stream",
     "text": [
      "\n",
      "Topic 00\n",
      "  mr (0.51)\n",
      "  president (0.45)\n",
      "  kennedy (0.43)\n",
      "  united (0.42)\n",
      "  khrushchev (0.40)\n",
      "\n",
      "Topic 01\n",
      "  said (0.88)\n",
      "  didn (0.46)\n",
      "  ll (0.45)\n",
      "  thought (0.42)\n",
      "  man (0.37)\n",
      "\n",
      "Topic 02\n",
      "  state (0.39)\n",
      "  development (0.36)\n",
      "  tax (0.33)\n",
      "  sales (0.30)\n",
      "  program (0.25)\n",
      "\n",
      "Topic 03\n",
      "  mrs (2.61)\n",
      "  mr (0.78)\n",
      "  said (0.63)\n",
      "  miss (0.52)\n",
      "  car (0.51)\n",
      "\n",
      "Topic 04\n",
      "  game (1.02)\n",
      "  league (0.74)\n",
      "  ball (0.72)\n",
      "  baseball (0.71)\n",
      "  team (0.66)\n"
     ]
    }
   ],
   "source": [
    "display_topics(nmf_text_model, tfidf_text_vectorizer.get_feature_names_out())"
   ]
  },
  {
   "attachments": {},
   "cell_type": "markdown",
   "id": "fee51e9b",
   "metadata": {},
   "source": [
    "Now some work for you to do. Compare the NMF factorization to the original categories from the Brown Corpus.\n",
    "\n",
    "We are interested in the extent to which our NMF factorization agrees or disagrees with the original categories in the corpus. For each topic in your NMF model, tally the Brown categories and interpret the results. \n"
   ]
  },
  {
   "cell_type": "code",
   "execution_count": 21,
   "id": "7c8c8eb0",
   "metadata": {},
   "outputs": [
    {
     "name": "stdout",
     "output_type": "stream",
     "text": [
      "\n",
      "Topic 0:\n",
      "  20 editorial\n",
      "  4 government\n",
      "  8 news\n",
      "\n",
      "Topic 1:\n",
      "  4 editorial\n",
      "  29 romance\n",
      "  8 hobbies\n",
      "\n",
      "Topic 2:\n",
      "  2 editorial\n",
      "  26 government\n",
      "  11 news\n",
      "  26 hobbies\n",
      "\n",
      "Topic 3:\n",
      "  17 news\n",
      "  1 hobbies\n",
      "\n",
      "Topic 4:\n",
      "  1 editorial\n",
      "  8 news\n",
      "  1 hobbies\n"
     ]
    }
   ],
   "source": [
    "# Your code here\n",
    "# The W Matrix holds the topics as the columns and the documents as rows\n",
    "# we can use this to combine it with the original dataframe that has the category and id\n",
    "\n",
    "w_matrix_df = pd.DataFrame(W_text_matrix)\n",
    "w_matrix_df[\"category\"] = df[\"category\"]\n",
    "w_matrix_df[\"id\"] = df[\"id\"]\n",
    "\n",
    "\n",
    "topic_dictionary = dict()\n",
    "\n",
    "topic_dictionary = {0 : {},\n",
    "                    1 : {},\n",
    "                    2 : {},\n",
    "                    3 : {},\n",
    "                    4 : {}}\n",
    "\n",
    "# Looping over the dataframe (using .iterrows())\n",
    "for index, row in w_matrix_df.iterrows():\n",
    "    \n",
    "    # in order to get the Topic we extract the first 5 values of each row\n",
    "    # then using .argsort() we find the indexes based on size of each value\n",
    "    # then we inverse sort from highest to lowest\n",
    "    # and the document topic is the first of the highest --> largest value is the Topic that document belongs to\n",
    "    document_topic = np.array(row.iloc[0:5]).argsort()[::-1][0]\n",
    "    \n",
    "    # now that we access to that doc category, we can just select it\n",
    "    document_category = row['category'] \n",
    "    \n",
    "    # building the dictionary\n",
    "    if document_category in topic_dictionary[document_topic]:\n",
    "        topic_dictionary[document_topic][document_category] += 1\n",
    "    else:\n",
    "        topic_dictionary[document_topic][document_category] = 1\n",
    "\n",
    "\n",
    "# once dictionary is created, we loop over it to get\n",
    "# the print out of how many categories per Topic\n",
    "for key, dictionary_value in topic_dictionary.items():\n",
    "    \n",
    "    print(f\"\\nTopic {key}:\")\n",
    "    \n",
    "    for category in dictionary_value:\n",
    "        \n",
    "        print(f\"  {dictionary_value[category]} {category}\") "
   ]
  },
  {
   "attachments": {},
   "cell_type": "markdown",
   "id": "f8d4e2bc",
   "metadata": {},
   "source": [
    "Q: How does your five-topic NMF model compare to the original Brown categories? \n",
    "\n",
    "A: It is not far off.  It makes sense there would be some difficulty distinguishing between news, editorial, and government.  It did a fairly decent job figuring out editorial was topic 0.  Topic 1 was clearly romance.  Topic 2 is where we see confusion between government and hobbies.  The NMF seemed to struggle with hobbies, and it should have included these 26 articles in topic 4."
   ]
  },
  {
   "attachments": {},
   "cell_type": "markdown",
   "id": "82e37cb5",
   "metadata": {},
   "source": [
    "## Fitting an LSA Model\n",
    "\n",
    "In this section, follow the example from the repository and fit an LSA model (called a \"TruncatedSVD\" in `sklearn`). Again fit a five-topic model and compare it to the actual categories in the Brown corpus. Use the TF-IDF vectors for your fit, as above. \n",
    "\n",
    "To be explicit, we are once again interested in the extent to which this LSA factorization agrees or disagrees with the original categories in the corpus. For each topic in your model, tally the Brown categories and interpret the results. \n"
   ]
  },
  {
   "cell_type": "code",
   "execution_count": 22,
   "id": "00b53d3d",
   "metadata": {},
   "outputs": [],
   "source": [
    "# Your code here\n",
    "svd_para_model = TruncatedSVD(n_components = 5, random_state=314)\n",
    "W_svd_para_matrix = svd_para_model.fit_transform(tfidf_text_vectors)\n",
    "H_svd_para_matrix = svd_para_model.components_"
   ]
  },
  {
   "cell_type": "code",
   "execution_count": 23,
   "id": "284b7ded",
   "metadata": {},
   "outputs": [
    {
     "name": "stdout",
     "output_type": "stream",
     "text": [
      "\n",
      "Topic 0:\n",
      "  27 editorial\n",
      "  30 government\n",
      "  34 news\n",
      "  21 romance\n",
      "  36 hobbies\n",
      "\n",
      "Topic 1:\n",
      "  8 romance\n",
      "\n",
      "Topic 2:\n",
      "\n",
      "Topic 3:\n",
      "  3 news\n",
      "\n",
      "Topic 4:\n",
      "  7 news\n"
     ]
    }
   ],
   "source": [
    "# tallying the Brown categories\n",
    "\n",
    "w_svd_matrix_df = pd.DataFrame(W_svd_para_matrix)\n",
    "w_svd_matrix_df[\"category\"] = df[\"category\"]\n",
    "w_svd_matrix_df[\"id\"] = df[\"id\"]\n",
    "                       \n",
    "topic_dictionary = dict()\n",
    "\n",
    "topic_dictionary = {0 : {}, 1 : {}, 2 : {}, 3 : {}, 4 : {}}\n",
    "\n",
    "for index, row in w_svd_matrix_df.iterrows():\n",
    "    document_topic = np.array(row.iloc[0:5]).argsort()[::-1][0]\n",
    "    document_category = row['category'] \n",
    "\n",
    "    if document_category in topic_dictionary[document_topic]:\n",
    "        topic_dictionary[document_topic][document_category] += 1\n",
    "    else:\n",
    "        topic_dictionary[document_topic][document_category] = 1\n",
    "\n",
    "for key, dictionary_value in topic_dictionary.items():\n",
    "    print(f\"\\nTopic {key}:\")\n",
    "    for category in dictionary_value:\n",
    "        print(f\"  {dictionary_value[category]} {category}\") \n",
    "        \n",
    "\n"
   ]
  },
  {
   "attachments": {},
   "cell_type": "markdown",
   "id": "4d94d56f",
   "metadata": {},
   "source": [
    "Q: How does your five-topic LSA model compare to the original Brown categories? \n",
    "\n",
    "A: The LSA model was not able to find the original Brown corpus categories as well as the NMF model did.  It assigned almost all of the articles to topic 0, and left topic 2 with nothing.  "
   ]
  },
  {
   "cell_type": "code",
   "execution_count": 24,
   "id": "377a886e",
   "metadata": {},
   "outputs": [
    {
     "name": "stdout",
     "output_type": "stream",
     "text": [
      "\n",
      "Topic 00\n",
      "  said (0.44)\n",
      "  mr (0.25)\n",
      "  mrs (0.22)\n",
      "  state (0.20)\n",
      "  man (0.17)\n",
      "\n",
      "Topic 01\n",
      "  said (3.89)\n",
      "  ll (2.73)\n",
      "  didn (2.63)\n",
      "  thought (2.20)\n",
      "  got (1.97)\n",
      "\n",
      "Topic 02\n",
      "  mrs (3.12)\n",
      "  mr (1.70)\n",
      "  said (1.06)\n",
      "  kennedy (0.82)\n",
      "  khrushchev (0.77)\n",
      "\n",
      "Topic 03\n",
      "  mrs (29.45)\n",
      "  club (6.53)\n",
      "  game (6.12)\n",
      "  jr (5.60)\n",
      "  university (5.20)\n",
      "\n",
      "Topic 04\n",
      "  game (4.54)\n",
      "  league (3.27)\n",
      "  baseball (3.22)\n",
      "  ball (3.10)\n",
      "  team (2.94)\n"
     ]
    }
   ],
   "source": [
    "# call display_topics on your model\n",
    "display_topics(svd_para_model, tfidf_text_vectorizer.get_feature_names_out())"
   ]
  },
  {
   "attachments": {},
   "cell_type": "markdown",
   "id": "ea8b280a",
   "metadata": {},
   "source": [
    "Q: What is your interpretation of the display topics output? \n",
    "\n",
    "A: Aside from topic 4, many of the words driving the topics are much different for the LSA model than the NMF.  For example, topic 2 has many of the words that were included in topic 0 of the NMF model.  "
   ]
  },
  {
   "attachments": {},
   "cell_type": "markdown",
   "id": "b4ab4d29",
   "metadata": {},
   "source": [
    "## Fitting an LDA Model\n",
    "\n",
    "Finally, fit a five-topic LDA model using the count vectors (`count_text_vectors` from above). Display the results using `pyLDAvis.display` and describe what you learn from that visualization. "
   ]
  },
  {
   "cell_type": "code",
   "execution_count": 25,
   "id": "802cb8ff",
   "metadata": {},
   "outputs": [],
   "source": [
    "# Fit your LDA model here\n",
    "lda_para_model = LatentDirichletAllocation(n_components = 5, random_state=314)\n",
    "W_lda_para_matrix = lda_para_model.fit_transform(count_text_vectors)\n",
    "H_lda_para_matrix = lda_para_model.components_"
   ]
  },
  {
   "cell_type": "code",
   "execution_count": 26,
   "id": "ab18adf5",
   "metadata": {},
   "outputs": [
    {
     "name": "stdout",
     "output_type": "stream",
     "text": [
      "\n",
      "Topic 00\n",
      "  said (1.05)\n",
      "  mrs (0.82)\n",
      "  little (0.56)\n",
      "  good (0.51)\n",
      "  way (0.50)\n",
      "\n",
      "Topic 01\n",
      "  state (0.67)\n",
      "  development (0.63)\n",
      "  000 (0.57)\n",
      "  program (0.48)\n",
      "  business (0.44)\n",
      "\n",
      "Topic 02\n",
      "  said (1.18)\n",
      "  mr (0.72)\n",
      "  president (0.51)\n",
      "  city (0.43)\n",
      "  state (0.37)\n",
      "\n",
      "Topic 03\n",
      "  feed (0.55)\n",
      "  college (0.54)\n",
      "  general (0.44)\n",
      "  university (0.43)\n",
      "  work (0.37)\n",
      "\n",
      "Topic 04\n",
      "  states (1.14)\n",
      "  state (1.02)\n",
      "  united (0.84)\n",
      "  shall (0.66)\n",
      "  government (0.61)\n"
     ]
    }
   ],
   "source": [
    "# Call `display_topics` on your fitted model here\n",
    "display_topics(lda_para_model, count_text_vectorizer.get_feature_names_out())"
   ]
  },
  {
   "cell_type": "code",
   "execution_count": 27,
   "id": "c8910496",
   "metadata": {},
   "outputs": [
    {
     "name": "stdout",
     "output_type": "stream",
     "text": [
      "\n",
      "Topic 0:\n",
      "  3 editorial\n",
      "  1 government\n",
      "  4 news\n",
      "  28 romance\n",
      "  11 hobbies\n",
      "\n",
      "Topic 1:\n",
      "  1 editorial\n",
      "  12 government\n",
      "  3 news\n",
      "  9 hobbies\n",
      "\n",
      "Topic 2:\n",
      "  21 editorial\n",
      "  3 government\n",
      "  32 news\n",
      "  1 romance\n",
      "  2 hobbies\n",
      "\n",
      "Topic 3:\n",
      "  2 editorial\n",
      "  4 government\n",
      "  3 news\n",
      "  8 hobbies\n",
      "\n",
      "Topic 4:\n",
      "  10 government\n",
      "  2 news\n",
      "  6 hobbies\n"
     ]
    }
   ],
   "source": [
    "# tallying the Brown categories\n",
    "\n",
    "w_lda_matrix_df = pd.DataFrame(W_lda_para_matrix)\n",
    "w_lda_matrix_df[\"category\"] = df[\"category\"]\n",
    "w_lda_matrix_df[\"id\"] = df[\"id\"]\n",
    "                       \n",
    "topic_dictionary = dict()\n",
    "\n",
    "topic_dictionary = {0 : {}, 1 : {}, 2 : {}, 3 : {}, 4 : {}}\n",
    "\n",
    "for index, row in w_lda_matrix_df.iterrows():\n",
    "    document_topic = np.array(row.iloc[0:5]).argsort()[::-1][0]\n",
    "    document_category = row['category'] \n",
    "\n",
    "    if document_category in topic_dictionary[document_topic]:\n",
    "        topic_dictionary[document_topic][document_category] += 1\n",
    "    else:\n",
    "        topic_dictionary[document_topic][document_category] = 1\n",
    "\n",
    "for key, dictionary_value in topic_dictionary.items():\n",
    "    print(f\"\\nTopic {key}:\")\n",
    "    for category in dictionary_value:\n",
    "        print(f\"  {dictionary_value[category]} {category}\") "
   ]
  },
  {
   "attachments": {},
   "cell_type": "markdown",
   "id": "f2c67876",
   "metadata": {},
   "source": [
    "Q: What inference do you draw from the displayed topics for your LDA model? \n",
    "\n",
    "A: It's clear that changing to a focus on word frequency vs importance has impacted the main words in each topic.  We see the word \"000\" in topic 1, but it clearly has little to do with any topic, it just happens to show up frequently in these doucments.\n",
    "\n",
    "Q: Repeat the tallying of Brown categories within your topics. How does your five-topic LDA model compare to the original Brown categories? \n",
    "\n",
    "A: It seems to do fairly well finding the news and romance topics, but struggles with the others."
   ]
  },
  {
   "cell_type": "code",
   "execution_count": 29,
   "id": "6aae75ca",
   "metadata": {},
   "outputs": [],
   "source": [
    "lda_display = pyLDAvis.lda_model.prepare(lda_para_model, count_text_vectors, count_text_vectorizer, sort_topics=False)"
   ]
  },
  {
   "cell_type": "code",
   "execution_count": 30,
   "id": "2a89fc15",
   "metadata": {},
   "outputs": [
    {
     "data": {
      "text/html": [
       "\n",
       "<link rel=\"stylesheet\" type=\"text/css\" href=\"https://cdn.jsdelivr.net/gh/bmabey/pyLDAvis@3.4.0/pyLDAvis/js/ldavis.v1.0.0.css\">\n",
       "\n",
       "\n",
       "<div id=\"ldavis_el11768268443183552080944687\" style=\"background-color:white;\"></div>\n",
       "<script type=\"text/javascript\">\n",
       "\n",
       "var ldavis_el11768268443183552080944687_data = {\"mdsDat\": {\"x\": [-0.24352303362204103, 0.13055719395526016, -0.05665667547392713, 0.041427484839752476, 0.1281950303009557], \"y\": [0.006829720679472385, -0.05588474470164816, 0.03852366287446486, -0.11285215230955578, 0.12338351345726664], \"topics\": [1, 2, 3, 4, 5], \"cluster\": [1, 1, 1, 1, 1], \"Freq\": [22.896957296534403, 20.431968542841844, 32.00626407252657, 12.368825612932351, 12.295984475164833]}, \"tinfo\": {\"Term\": [\"states\", \"state\", \"said\", \"mrs\", \"united\", \"shall\", \"development\", \"tax\", \"feed\", \"fiscal\", \"college\", \"government\", \"ll\", \"don\", \"000\", \"university\", \"department\", \"didn\", \"sales\", \"president\", \"rhode\", \"got\", \"equipment\", \"little\", \"mother\", \"class\", \"act\", \"program\", \"system\", \"property\", \"hair\", \"baby\", \"clothes\", \"walls\", \"anne\", \"fig\", \"pale\", \"pink\", \"dry\", \"yellow\", \"entrance\", \"hadn\", \"ham\", \"couldn\", \"frames\", \"fingers\", \"flowers\", \"windows\", \"bride\", \"hell\", \"handsome\", \"coat\", \"cloth\", \"sweet\", \"stared\", \"liked\", \"colored\", \"studio\", \"bed\", \"trees\", \"shelter\", \"mother\", \"looked\", \"clay\", \"wasn\", \"guests\", \"didn\", \"woman\", \"sat\", \"pieces\", \"colors\", \"eyes\", \"drill\", \"mrs\", \"ll\", \"don\", \"thought\", \"room\", \"sun\", \"inch\", \"ve\", \"black\", \"little\", \"knew\", \"went\", \"sure\", \"got\", \"door\", \"look\", \"son\", \"know\", \"said\", \"way\", \"come\", \"came\", \"good\", \"place\", \"away\", \"old\", \"water\", \"right\", \"man\", \"let\", \"life\", \"left\", \"house\", \"day\", \"home\", \"systems\", \"marketing\", \"electronic\", \"boats\", \"missiles\", \"components\", \"aircraft\", \"machine\", \"rhode\", \"assessment\", \"shipments\", \"laboratory\", \"bankers\", \"savings\", \"yield\", \"industrial\", \"forests\", \"compared\", \"machines\", \"procurement\", \"missile\", \"conservation\", \"utility\", \"inventories\", \"polaris\", \"manufacturing\", \"machinery\", \"investment\", \"recreation\", \"banks\", \"property\", \"industry\", \"equipment\", \"sales\", \"radiation\", \"planning\", \"development\", \"medical\", \"providence\", \"billion\", \"system\", \"shares\", \"manufacturers\", \"island\", \"1960\", \"production\", \"1959\", \"products\", \"research\", \"co\", \"range\", \"000\", \"program\", \"business\", \"cost\", \"million\", \"available\", \"state\", \"small\", \"company\", \"national\", \"1961\", \"provide\", \"areas\", \"service\", \"use\", \"military\", \"tax\", \"public\", \"khrushchev\", \"player\", \"rayburn\", \"congo\", \"republican\", \"moscow\", \"southern\", \"baseball\", \"railroad\", \"castro\", \"troops\", \"yards\", \"charter\", \"yankees\", \"premier\", \"alexander\", \"democrats\", \"captain\", \"chinese\", \"coach\", \"laos\", \"gen\", \"cuban\", \"opposition\", \"soviet\", \"katanga\", \"republicans\", \"pope\", \"bombs\", \"robinson\", \"berlin\", \"speaker\", \"communist\", \"democratic\", \"eisenhower\", \"league\", \"mayor\", \"cuba\", \"st\", \"police\", \"yesterday\", \"china\", \"west\", \"monday\", \"race\", \"john\", \"east\", \"kennedy\", \"city\", \"mr\", \"meeting\", \"party\", \"president\", \"said\", \"week\", \"war\", \"political\", \"nations\", \"game\", \"committee\", \"leaders\", \"american\", \"world\", \"york\", \"home\", \"county\", \"man\", \"united\", \"people\", \"house\", \"state\", \"day\", \"old\", \"000\", \"government\", \"men\", \"national\", \"states\", \"school\", \"academic\", \"faculty\", \"trustees\", \"campus\", \"recognition\", \"classical\", \"professors\", \"mathematics\", \"musical\", \"tends\", \"feed\", \"stockholders\", \"fulfill\", \"meat\", \"unions\", \"chemical\", \"motors\", \"prosperity\", \"cattle\", \"prestige\", \"designer\", \"curriculum\", \"clerical\", \"catholic\", \"collective\", \"recorded\", \"appearances\", \"creative\", \"membership\", \"trust\", \"music\", \"chamber\", \"students\", \"student\", \"colleges\", \"teachers\", \"college\", \"engineer\", \"interior\", \"university\", \"daily\", \"pool\", \"schools\", \"education\", \"art\", \"general\", \"anti\", \"members\", \"technical\", \"labor\", \"design\", \"administration\", \"level\", \"work\", \"school\", \"president\", \"problem\", \"board\", \"department\", \"american\", \"good\", \"men\", \"aid\", \"world\", \"high\", \"cousin\", \"rehabilitation\", \"coal\", \"vocational\", \"definition\", \"denied\", \"thereof\", \"bonds\", \"payment\", \"rico\", \"puerto\", \"coordination\", \"filing\", \"adopting\", \"recommendation\", \"calendar\", \"hated\", \"proceedings\", \"commodities\", \"sectors\", \"connections\", \"62\", \"vehicles\", \"allocation\", \"treasury\", \"tractor\", \"adjustments\", \"upstairs\", \"shall\", \"assigned\", \"india\", \"exercise\", \"interference\", \"payments\", \"fiscal\", \"authorized\", \"claim\", \"stations\", \"insurance\", \"claims\", \"class\", \"states\", \"income\", \"return\", \"tax\", \"united\", \"junior\", \"hearing\", \"act\", \"countries\", \"cars\", \"state\", \"agreement\", \"department\", \"government\", \"secretary\", \"officer\", \"section\", \"title\", \"federal\", \"use\", \"service\", \"30\", \"board\", \"services\", \"pay\", \"local\", \"day\"], \"Freq\": [328.0, 485.0, 803.0, 307.0, 298.0, 123.0, 199.0, 172.0, 93.0, 107.0, 120.0, 273.0, 167.0, 178.0, 282.0, 122.0, 153.0, 124.0, 117.0, 297.0, 86.0, 147.0, 105.0, 237.0, 97.0, 97.0, 127.0, 230.0, 142.0, 95.0, 35.2660316976795, 35.259854572870836, 32.342823917150476, 32.33880808918395, 34.234073004331016, 31.327619231629416, 26.498517625454486, 25.524771041025012, 23.573236778164116, 25.42713825332057, 21.619428115149056, 30.9930446789514, 19.675700186736574, 51.439817072385026, 20.589733305570032, 17.726312752092973, 23.305040810822792, 16.751973310918498, 17.67796618496798, 15.78178949352548, 15.780666162782094, 15.765038139000248, 14.807347406646532, 14.806857679256785, 14.806525243898376, 14.80556265902143, 15.721341674975077, 14.793031300690535, 34.148748494261184, 27.74245501030447, 57.20416985925254, 90.05985801714505, 78.93387784968803, 75.71076669182486, 53.907238782962956, 29.982839371430053, 108.73073941993033, 50.25085074519485, 34.93419186644634, 48.297523762670494, 27.141746207592877, 83.9918324965761, 31.328311483268028, 234.33243224195664, 134.73682388828362, 142.22532063651892, 113.48998687104884, 84.70739288661404, 47.851073173593214, 58.28164360651523, 69.82209572678194, 54.44733492420308, 159.93873456068172, 71.32903793545267, 100.47914727932279, 70.80739412891462, 101.54763550743174, 56.564345442016, 89.14937958191928, 57.942787656314906, 112.80221967394858, 300.19157995270007, 143.08214720581574, 108.66785528409177, 97.93192846288136, 146.7201649075102, 107.63695959300922, 81.83857826579649, 125.33252753577922, 93.6542775665295, 105.80662989454548, 122.43392673750678, 76.37882747857904, 81.85609009063337, 81.25833894745236, 87.71132897871952, 85.95109916972115, 84.11085690371264, 37.62033917696874, 41.26043043714815, 26.108504126894054, 38.014900667186296, 22.24099597794039, 21.22351437468652, 54.2484835922526, 50.394700061919046, 82.33814930496462, 17.226327234066922, 13.599502717078886, 16.290888590985347, 10.740632157231767, 17.00538725255209, 15.13334249422732, 72.03843499105986, 14.938223060272115, 24.574363297207974, 28.908173871233362, 17.448867762039537, 36.58474259793827, 7.85478900810023, 11.322258118599612, 6.910963131905749, 6.906977941612564, 18.16721140781803, 30.179415379306555, 24.918058009903763, 32.62393120086356, 16.267831354180633, 85.04409531611365, 85.23076408361712, 92.04061867537698, 102.21030740338112, 31.419941862258053, 72.29354736159617, 160.58456695669432, 84.12221117794051, 39.27101304252751, 47.15352590830214, 110.99031567699504, 32.52656888050936, 35.56961213374261, 88.51387155669508, 93.20958887097933, 63.84974612826226, 50.27196273949966, 49.69605754659329, 72.63469421541124, 46.826210408830285, 53.98496787689071, 144.6286663472735, 123.50896845655338, 113.1986105479081, 73.61038906890693, 79.16133829903127, 74.66204969189863, 169.46520342296483, 100.42960965644937, 76.12853270707231, 92.20105914345218, 67.1606189347013, 66.50125650021178, 62.6312952280271, 86.6694706814801, 95.41631280398217, 65.25389352558294, 67.84173831149505, 65.61364145319426, 73.42554374783127, 48.677684982965985, 46.70642783836328, 43.733374934891906, 39.778178768084466, 37.80010747839434, 34.827228410194245, 39.61877024477502, 32.8418090484727, 29.881397928372568, 26.91281765701298, 26.89959101139299, 27.860295497571634, 25.925615833025635, 24.93520264611286, 24.92786072259935, 23.946196773271843, 23.93872466553855, 22.949710429481577, 22.940661109611252, 49.61478194372414, 21.955319680146985, 20.974708622899172, 20.95696065584776, 78.92743956978485, 19.98234147220938, 19.972841684788577, 19.967439518925552, 18.996535964167776, 18.99455107756809, 63.224259726459216, 40.66068656369499, 70.96278176057122, 59.00465760184107, 38.646633209979285, 57.99120476200645, 43.217711501538844, 36.7462556619408, 71.4753046743269, 44.37915026504097, 58.02965358273055, 32.82823725515495, 96.0841853883144, 58.46515417030852, 40.50565929609284, 142.98368478351776, 83.85420121427464, 111.14875577393397, 172.62353200026385, 287.8781423602995, 84.13213702614378, 92.01772270153495, 205.40634873734518, 470.89022085822506, 140.7626514325593, 113.01139950261553, 71.05038233619973, 67.16518889885596, 73.87620209973902, 83.76171945290636, 50.002467140636554, 148.6461501680529, 138.1358696255799, 96.83009236355015, 140.02404620727455, 76.83350051553239, 129.58037547484744, 125.62152536157579, 118.36210204722666, 110.56501449328007, 148.84517946191062, 119.60071243642422, 108.76991140081164, 105.30536803757657, 99.5216494770634, 90.46561781118982, 91.57849254494282, 96.15786407278588, 83.8443699495043, 27.81482656930289, 48.93684709004395, 18.503509985386064, 14.879468477087638, 15.473941152164302, 9.373352607053913, 8.429864173735911, 7.546272419664488, 18.41492046315919, 7.518959799427113, 84.44155436104515, 18.268486568333344, 6.622128289059293, 19.541713824661993, 18.587130254336053, 23.14611199920274, 38.25197181315981, 4.7732886786824995, 17.38156673692056, 10.238816773832276, 14.802706325018947, 7.011676741661604, 4.663272913791585, 25.479595882436385, 10.014582060857487, 7.58239815891886, 4.540015041329346, 12.853649254073687, 19.425628383036784, 29.70697872347526, 46.82501087835116, 21.450400541392597, 52.99436840196033, 54.95528137361029, 16.31100829518683, 25.62073069822369, 83.62014229714195, 24.94167590234605, 28.633459492336556, 67.01241734256463, 33.33126174190029, 43.62737654411718, 49.32037920831073, 46.41828570416093, 34.856196031965084, 67.66899625922352, 32.10381351159202, 51.623028144457614, 31.17793699600308, 33.89549304217555, 35.0408206390176, 44.4932795589278, 35.22883442674204, 56.48861252778395, 47.167119511568494, 55.687789661338385, 39.64150536052319, 42.715660545390136, 38.01482404768495, 43.015109783673616, 42.90256178570314, 38.25715440917965, 34.06878160168684, 37.62879650451497, 34.84607073269787, 24.89538173911792, 17.60871047105591, 22.617152720693372, 12.988354717680895, 12.081651178952164, 17.255761258059284, 11.043916669732484, 28.504391307942033, 36.75187172723348, 17.29261904159066, 17.289973715259702, 6.586201822372026, 15.531276371536089, 5.669749860722185, 16.0699584219347, 20.125736782358153, 5.626627615289119, 6.41643682385848, 14.343171489794164, 4.761534756745235, 5.547238482984922, 5.532508833757155, 35.56950814402386, 10.223530392476112, 22.86656696765848, 19.499373411737228, 10.913572827235148, 5.430408333634805, 101.16733937850292, 9.141628146127141, 29.60437781154283, 21.94557072459187, 28.494458626329067, 31.902747941396832, 82.24350507900864, 23.619992267390906, 32.82368814475587, 43.57399739685009, 25.757310222259655, 22.21335819721848, 63.525155444168185, 175.30239292056524, 50.039862686244476, 41.161012434359975, 86.6587533199153, 128.392379263873, 39.91034171743858, 33.81578682770538, 65.0107752835116, 47.42060534620124, 40.20927959281326, 156.2942625971664, 38.83917469224567, 66.04762002986969, 93.49618556474502, 54.83909075025101, 32.98378789632113, 41.66456800174148, 29.98997040790958, 43.233051375567776, 57.37752089386136, 52.70114914664646, 42.22418118531017, 42.52715360132942, 36.82910800278594, 37.09681062937554, 36.74442128741894, 37.17615767602753], \"Total\": [328.0, 485.0, 803.0, 307.0, 298.0, 123.0, 199.0, 172.0, 93.0, 107.0, 120.0, 273.0, 167.0, 178.0, 282.0, 122.0, 153.0, 124.0, 117.0, 297.0, 86.0, 147.0, 105.0, 237.0, 97.0, 97.0, 127.0, 230.0, 142.0, 95.0, 36.02603912499985, 36.02588883819033, 33.10322172299763, 33.103199451516204, 35.050562559486096, 32.1285378748327, 27.257595896582213, 26.2833810576982, 24.334723323645925, 26.28457560730936, 22.38617131270356, 32.1349177293047, 20.437642353730425, 53.48541765786134, 21.413009212119373, 18.488977697815788, 24.31987835813562, 17.514841028502047, 18.48997788651864, 16.540707205667307, 16.54068383919484, 16.54015211825248, 15.56643207582317, 15.566368553159577, 15.566439385894087, 15.56640853615906, 16.54112310277151, 15.566128130021553, 35.96189057796923, 29.216873363902355, 60.420302485952554, 97.5081366544042, 85.71452146351673, 82.7655748288131, 58.48806964583603, 32.15043643449321, 124.77305109139076, 55.49593407027591, 37.89639184076529, 53.44875378566885, 29.18685535443564, 98.42108266493295, 34.10865925517124, 307.997158357814, 167.83422712513698, 178.1854227837812, 139.8217103611608, 103.4267444219059, 54.562238116231974, 68.76954856434932, 84.83647160041035, 64.2620139704154, 237.7527797142563, 90.51973633420363, 137.7059309562873, 91.7744400912996, 147.79376856176174, 70.06214294099414, 129.86657516906672, 73.99592681862173, 191.48072080434136, 803.8548070648294, 274.8542726057724, 186.07372334983492, 163.15899799670464, 306.4340359076894, 190.15544412730648, 123.8998525124969, 254.84946828941256, 162.71698521260237, 213.5733828440322, 283.01536045192046, 121.9563692552673, 161.5301771615791, 163.2099130129018, 234.12184367687405, 302.3464743334504, 268.5137641979603, 38.38900181276879, 42.219751146557115, 26.87023951148845, 39.32530511253742, 23.031355908186324, 22.06902387883872, 56.67664066614086, 52.835411858251256, 86.46800449904775, 18.221477632163253, 14.390064081926598, 17.262361508112306, 11.511442662430946, 18.237457198455743, 16.292903446551122, 78.46760127905362, 16.28419722696019, 26.80226895725756, 31.645263380810615, 19.147274411366546, 40.189557722273264, 8.63175043356373, 12.458169098970625, 7.671836647717198, 7.67195030715787, 20.18844642310025, 33.58228715547512, 27.758165731678762, 36.44648449277569, 18.17983889287437, 95.59958109020072, 96.93212392160389, 105.6575802606284, 117.78573708942217, 35.55944348942248, 85.01192732215912, 199.00113683933085, 101.02292341395619, 45.14381488359429, 54.901189630749705, 142.66262791523997, 37.275769525790714, 41.99097586369719, 120.33277045687878, 129.77818451581402, 84.83256378608137, 63.72708403807195, 62.844187236680085, 102.98876739202457, 59.708950181379905, 72.90815716855994, 282.944274124436, 230.3215726978668, 209.3237474816217, 115.94033775080965, 128.9930469541293, 119.71572579817422, 485.5254739281195, 211.3753924823505, 138.53740854960472, 215.7342231481858, 114.9180153752054, 112.9357554678229, 99.9067993539861, 203.57909034218497, 253.44869724604655, 123.30539886857116, 172.80964183116555, 200.80538207395296, 74.1813261160513, 49.44169052826697, 47.46260119923946, 44.49359036010499, 40.535513996171375, 38.55638985076478, 35.58752782843549, 40.52408901130406, 33.60786999510346, 30.639652232810235, 27.670894341231335, 27.670809878218463, 28.65913593377033, 26.68148137168697, 25.691806203590644, 25.691678325478705, 24.702282074756578, 24.702154272987812, 23.712487033002056, 23.711939322752976, 51.34436129166912, 22.72241627183325, 21.733411082028496, 21.732251919217543, 81.93116365784141, 20.743599793201984, 20.7429113776574, 20.74332961345866, 19.754257834892872, 19.75431277254959, 66.10674015267467, 42.43698376216303, 74.99667222533031, 62.13038324129468, 40.45277924173406, 61.20732427285947, 45.37927277280931, 38.4795855221263, 78.0399664895098, 47.297256235347305, 63.027230870364626, 34.52865293710653, 108.34119862739153, 64.0092290665556, 43.34070314169641, 171.40817645781527, 96.50766365165032, 132.04188079153843, 217.90548917781655, 392.8566393536834, 99.38191347480668, 110.41190710132187, 297.08938591194305, 803.8548070648294, 190.95279899715118, 148.1289582730564, 84.33186741272117, 80.65436811910892, 91.54281280787274, 111.05863796939244, 55.265203097107126, 262.8761488078903, 256.0899824588553, 148.4697207814734, 268.5137641979603, 105.84498183835268, 283.01536045192046, 298.7240339741691, 265.6177234105347, 234.12184367687405, 485.5254739281195, 302.3464743334504, 254.84946828941256, 282.944274124436, 273.1049196397213, 193.49518722056052, 215.7342231481858, 328.08766300343257, 171.68266645156046, 28.587671191002997, 50.752351040054876, 19.38080581059407, 15.69330433375895, 16.633414863075277, 10.165631588135223, 9.245712123820661, 8.322226888959086, 20.34853979312971, 8.32234129436149, 93.52912134200938, 20.350673528278353, 7.401195317063865, 22.202972880525206, 21.263556998272655, 26.864176614307862, 44.4668507347348, 5.559156794388794, 20.429848324794396, 12.080566726948943, 17.616166085442273, 8.344571664079348, 5.563614525856913, 30.7400623401112, 12.097121988776012, 9.309062259927535, 5.575810965371209, 15.790102910241076, 24.236359627179542, 37.14065807513567, 59.642613248128676, 27.081082977874445, 68.97438698866323, 71.6827549228918, 20.46714171356448, 33.34760135025257, 120.99975166695675, 32.580289308120825, 39.896080519574994, 122.31078776847816, 52.49852760150628, 75.23212830270094, 89.45812584148695, 84.56146294600387, 57.493258352735886, 198.00621277778876, 57.79720640203353, 140.21994582812485, 57.24356765830162, 68.34216300022543, 74.72871037779441, 131.40907157119452, 82.98496450235845, 256.9778623927558, 171.68266645156046, 297.08938591194305, 117.36282478725474, 173.02514764709474, 153.03062002567157, 262.8761488078903, 306.4340359076894, 193.49518722056052, 99.64739691842247, 256.0899824588553, 217.96093203160194, 25.7199003569581, 18.379206160058768, 23.884995096222173, 13.795801363596565, 12.877393873437681, 18.39587213444213, 11.965555537317107, 31.30178852783005, 40.52555344944814, 19.305747619464753, 19.305381735641966, 7.373665018594341, 17.516110794478628, 6.45650486790386, 18.38654313683197, 23.07591468933511, 6.4593709563274055, 7.374057915469391, 16.59345163924973, 5.538818995171569, 6.462219526241352, 6.457204216744039, 41.58244844081573, 11.963052970316323, 26.87025406073879, 23.091351462145575, 12.93156093520785, 6.471692815484661, 123.04949327572976, 11.129093826135726, 36.08726596770417, 26.774612595552796, 35.19197255344369, 39.79154818535326, 107.51555928474944, 29.573704296915555, 42.54665994150667, 57.8085593545939, 33.291642037189185, 28.658975142612583, 97.1696828583257, 328.08766300343257, 79.94285226747924, 64.56516799991904, 172.80964183116555, 298.7240339741691, 62.79076549191266, 50.551680739664846, 127.86759220361667, 82.8743517684047, 65.84647973719706, 485.5254739281195, 64.87874739797834, 153.03062002567157, 273.1049196397213, 119.84296064796638, 52.256274530524955, 81.49566812100716, 44.58064300425604, 112.6380460193117, 253.44869724604655, 203.57909034218497, 114.38793137157589, 173.02514764709474, 93.38657624530404, 103.89058589990489, 128.4211437283209, 302.3464743334504], \"Category\": [\"Default\", \"Default\", \"Default\", \"Default\", \"Default\", \"Default\", \"Default\", \"Default\", \"Default\", \"Default\", \"Default\", \"Default\", \"Default\", \"Default\", \"Default\", \"Default\", \"Default\", \"Default\", \"Default\", \"Default\", \"Default\", \"Default\", \"Default\", \"Default\", \"Default\", \"Default\", \"Default\", \"Default\", \"Default\", \"Default\", \"Topic1\", \"Topic1\", \"Topic1\", \"Topic1\", \"Topic1\", \"Topic1\", \"Topic1\", \"Topic1\", \"Topic1\", \"Topic1\", \"Topic1\", \"Topic1\", \"Topic1\", \"Topic1\", \"Topic1\", \"Topic1\", \"Topic1\", \"Topic1\", \"Topic1\", \"Topic1\", \"Topic1\", \"Topic1\", \"Topic1\", \"Topic1\", \"Topic1\", \"Topic1\", \"Topic1\", \"Topic1\", \"Topic1\", \"Topic1\", \"Topic1\", \"Topic1\", \"Topic1\", \"Topic1\", \"Topic1\", \"Topic1\", \"Topic1\", \"Topic1\", \"Topic1\", \"Topic1\", \"Topic1\", \"Topic1\", \"Topic1\", \"Topic1\", \"Topic1\", \"Topic1\", \"Topic1\", \"Topic1\", \"Topic1\", \"Topic1\", \"Topic1\", \"Topic1\", \"Topic1\", \"Topic1\", \"Topic1\", \"Topic1\", \"Topic1\", \"Topic1\", \"Topic1\", \"Topic1\", \"Topic1\", \"Topic1\", \"Topic1\", \"Topic1\", \"Topic1\", \"Topic1\", \"Topic1\", \"Topic1\", \"Topic1\", \"Topic1\", \"Topic1\", \"Topic1\", \"Topic1\", \"Topic1\", \"Topic1\", \"Topic1\", \"Topic1\", \"Topic1\", \"Topic2\", \"Topic2\", \"Topic2\", \"Topic2\", \"Topic2\", \"Topic2\", \"Topic2\", \"Topic2\", \"Topic2\", \"Topic2\", \"Topic2\", \"Topic2\", \"Topic2\", \"Topic2\", \"Topic2\", \"Topic2\", \"Topic2\", \"Topic2\", \"Topic2\", \"Topic2\", \"Topic2\", \"Topic2\", \"Topic2\", \"Topic2\", \"Topic2\", \"Topic2\", \"Topic2\", \"Topic2\", \"Topic2\", \"Topic2\", \"Topic2\", \"Topic2\", \"Topic2\", \"Topic2\", \"Topic2\", \"Topic2\", \"Topic2\", \"Topic2\", \"Topic2\", \"Topic2\", \"Topic2\", \"Topic2\", \"Topic2\", \"Topic2\", \"Topic2\", \"Topic2\", \"Topic2\", \"Topic2\", \"Topic2\", \"Topic2\", \"Topic2\", \"Topic2\", \"Topic2\", \"Topic2\", \"Topic2\", \"Topic2\", \"Topic2\", \"Topic2\", \"Topic2\", \"Topic2\", \"Topic2\", \"Topic2\", \"Topic2\", \"Topic2\", \"Topic2\", \"Topic2\", \"Topic2\", \"Topic2\", \"Topic2\", \"Topic3\", \"Topic3\", \"Topic3\", \"Topic3\", \"Topic3\", \"Topic3\", \"Topic3\", \"Topic3\", \"Topic3\", \"Topic3\", \"Topic3\", \"Topic3\", \"Topic3\", \"Topic3\", \"Topic3\", \"Topic3\", \"Topic3\", \"Topic3\", \"Topic3\", \"Topic3\", \"Topic3\", \"Topic3\", \"Topic3\", \"Topic3\", \"Topic3\", \"Topic3\", \"Topic3\", \"Topic3\", \"Topic3\", \"Topic3\", \"Topic3\", \"Topic3\", \"Topic3\", \"Topic3\", \"Topic3\", \"Topic3\", \"Topic3\", \"Topic3\", \"Topic3\", \"Topic3\", \"Topic3\", \"Topic3\", \"Topic3\", \"Topic3\", \"Topic3\", \"Topic3\", \"Topic3\", \"Topic3\", \"Topic3\", \"Topic3\", \"Topic3\", \"Topic3\", \"Topic3\", \"Topic3\", \"Topic3\", \"Topic3\", \"Topic3\", \"Topic3\", \"Topic3\", \"Topic3\", \"Topic3\", \"Topic3\", \"Topic3\", \"Topic3\", \"Topic3\", \"Topic3\", \"Topic3\", \"Topic3\", \"Topic3\", \"Topic3\", \"Topic3\", \"Topic3\", \"Topic3\", \"Topic3\", \"Topic3\", \"Topic3\", \"Topic3\", \"Topic3\", \"Topic3\", \"Topic4\", \"Topic4\", \"Topic4\", \"Topic4\", \"Topic4\", \"Topic4\", \"Topic4\", \"Topic4\", \"Topic4\", \"Topic4\", \"Topic4\", \"Topic4\", \"Topic4\", \"Topic4\", \"Topic4\", \"Topic4\", \"Topic4\", \"Topic4\", \"Topic4\", \"Topic4\", \"Topic4\", \"Topic4\", \"Topic4\", \"Topic4\", \"Topic4\", \"Topic4\", \"Topic4\", \"Topic4\", \"Topic4\", \"Topic4\", \"Topic4\", \"Topic4\", \"Topic4\", \"Topic4\", \"Topic4\", \"Topic4\", \"Topic4\", \"Topic4\", \"Topic4\", \"Topic4\", \"Topic4\", \"Topic4\", \"Topic4\", \"Topic4\", \"Topic4\", \"Topic4\", \"Topic4\", \"Topic4\", \"Topic4\", \"Topic4\", \"Topic4\", \"Topic4\", \"Topic4\", \"Topic4\", \"Topic4\", \"Topic4\", \"Topic4\", \"Topic4\", \"Topic4\", \"Topic4\", \"Topic4\", \"Topic4\", \"Topic4\", \"Topic4\", \"Topic4\", \"Topic5\", \"Topic5\", \"Topic5\", \"Topic5\", \"Topic5\", \"Topic5\", \"Topic5\", \"Topic5\", \"Topic5\", \"Topic5\", \"Topic5\", \"Topic5\", \"Topic5\", \"Topic5\", \"Topic5\", \"Topic5\", \"Topic5\", \"Topic5\", \"Topic5\", \"Topic5\", \"Topic5\", \"Topic5\", \"Topic5\", \"Topic5\", \"Topic5\", \"Topic5\", \"Topic5\", \"Topic5\", \"Topic5\", \"Topic5\", \"Topic5\", \"Topic5\", \"Topic5\", \"Topic5\", \"Topic5\", \"Topic5\", \"Topic5\", \"Topic5\", \"Topic5\", \"Topic5\", \"Topic5\", \"Topic5\", \"Topic5\", \"Topic5\", \"Topic5\", \"Topic5\", \"Topic5\", \"Topic5\", \"Topic5\", \"Topic5\", \"Topic5\", \"Topic5\", \"Topic5\", \"Topic5\", \"Topic5\", \"Topic5\", \"Topic5\", \"Topic5\", \"Topic5\", \"Topic5\", \"Topic5\", \"Topic5\", \"Topic5\", \"Topic5\", \"Topic5\", \"Topic5\", \"Topic5\", \"Topic5\"], \"logprob\": [30.0, 29.0, 28.0, 27.0, 26.0, 25.0, 24.0, 23.0, 22.0, 21.0, 20.0, 19.0, 18.0, 17.0, 16.0, 15.0, 14.0, 13.0, 12.0, 11.0, 10.0, 9.0, 8.0, 7.0, 6.0, 5.0, 4.0, 3.0, 2.0, 1.0, -6.6963, -6.6965, -6.7828, -6.7829, -6.726, -6.8147, -6.9821, -7.0195, -7.0991, -7.0234, -7.1856, -6.8254, -7.2798, -6.3188, -7.2344, -7.3841, -7.1105, -7.4407, -7.3869, -7.5003, -7.5004, -7.5014, -7.5641, -7.5641, -7.5641, -7.5642, -7.5042, -7.565, -6.7285, -6.9362, -6.2126, -5.7587, -5.8906, -5.9323, -6.2719, -6.8586, -5.5703, -6.3422, -6.7057, -6.3818, -6.9581, -5.8285, -6.8147, -4.8025, -5.3559, -5.3018, -5.5275, -5.82, -6.3911, -6.1939, -6.0132, -6.262, -5.1844, -5.9919, -5.6492, -5.9992, -5.6387, -6.2238, -5.7689, -6.1997, -5.5336, -4.5548, -5.2958, -5.5709, -5.6749, -5.2707, -5.5804, -5.8544, -5.4282, -5.7196, -5.5976, -5.4516, -5.9235, -5.8542, -5.8616, -5.7851, -5.8054, -5.8271, -6.5177, -6.4254, -6.883, -6.5073, -7.0434, -7.0902, -6.1517, -6.2254, -5.7345, -7.2989, -7.5353, -7.3547, -7.7713, -7.3118, -7.4284, -5.8681, -7.4414, -6.9436, -6.7812, -7.286, -6.5457, -8.0842, -7.7185, -8.2122, -8.2128, -7.2457, -6.7381, -6.9297, -6.6602, -7.3561, -5.7021, -5.6999, -5.6231, -5.5183, -6.6978, -5.8646, -5.0665, -5.713, -6.4748, -6.2919, -5.4358, -6.6632, -6.5738, -5.6621, -5.6104, -5.9888, -6.2278, -6.2394, -5.8598, -6.2988, -6.1566, -5.1711, -5.329, -5.4161, -5.8465, -5.7738, -5.8323, -5.0126, -5.5358, -5.8129, -5.6213, -5.9382, -5.9481, -6.008, -5.6832, -5.587, -5.967, -5.9281, -5.9615, -6.2979, -6.7089, -6.7502, -6.816, -6.9108, -6.9618, -7.0437, -6.9148, -7.1024, -7.1969, -7.3015, -7.302, -7.2669, -7.3389, -7.3778, -7.3781, -7.4183, -7.4186, -7.4608, -7.4612, -6.6898, -7.5051, -7.5508, -7.5517, -6.2256, -7.5993, -7.5997, -7.6, -7.6499, -7.65, -6.4474, -6.8889, -6.332, -6.5165, -6.9397, -6.5338, -6.8279, -6.9901, -6.3248, -6.8014, -6.5332, -7.1028, -6.0289, -6.5257, -6.8927, -5.6314, -6.165, -5.8833, -5.443, -4.9316, -6.1617, -6.0721, -5.2691, -4.4395, -5.647, -5.8666, -6.3307, -6.387, -6.2917, -6.1661, -6.6821, -5.5926, -5.6659, -6.0212, -5.6523, -6.2525, -5.7298, -5.7608, -5.8204, -5.8885, -5.5912, -5.81, -5.9049, -5.9373, -5.9937, -6.0892, -6.0769, -6.0281, -6.1652, -6.3178, -5.7528, -6.7254, -6.9434, -6.9042, -7.4055, -7.5116, -7.6223, -6.7302, -7.6259, -5.2073, -6.7382, -7.753, -6.6708, -6.7209, -6.5015, -5.9992, -8.0803, -6.788, -7.3172, -6.9486, -7.6958, -8.1037, -6.4055, -7.3393, -7.6175, -8.1304, -7.0897, -6.6768, -6.252, -5.797, -6.5776, -5.6732, -5.6369, -6.8515, -6.4, -5.2171, -6.4268, -6.2888, -5.4385, -6.1369, -5.8677, -5.745, -5.8057, -6.0921, -5.4287, -6.1744, -5.6994, -6.2037, -6.1201, -6.0869, -5.848, -6.0815, -5.6093, -5.7897, -5.6236, -5.9635, -5.8888, -6.0054, -5.8818, -5.8844, -5.999, -6.115, -6.0156, -6.0924, -6.4228, -6.7691, -6.5188, -7.0734, -7.1458, -6.7893, -7.2356, -6.2874, -6.0333, -6.7872, -6.7873, -7.7525, -6.8946, -7.9023, -6.8605, -6.6355, -7.91, -7.7786, -6.9742, -8.0769, -7.9242, -7.9268, -6.066, -7.3128, -6.5078, -6.6671, -7.2475, -7.9454, -5.0207, -7.4246, -6.2495, -6.5489, -6.2878, -6.1748, -5.2278, -6.4754, -6.1463, -5.863, -6.3887, -6.5368, -5.486, -4.471, -5.7246, -5.92, -5.1755, -4.7824, -5.9508, -6.1165, -5.4629, -5.7784, -5.9434, -4.5857, -5.978, -5.4471, -5.0995, -5.6331, -6.1414, -5.9078, -6.2366, -5.8709, -5.5878, -5.6728, -5.8945, -5.8873, -6.0312, -6.0239, -6.0335, -6.0218], \"loglift\": [30.0, 29.0, 28.0, 27.0, 26.0, 25.0, 24.0, 23.0, 22.0, 21.0, 20.0, 19.0, 18.0, 17.0, 16.0, 15.0, 14.0, 13.0, 12.0, 11.0, 10.0, 9.0, 8.0, 7.0, 6.0, 5.0, 4.0, 3.0, 2.0, 1.0, 1.4528, 1.4527, 1.4509, 1.4508, 1.4506, 1.4489, 1.4459, 1.4449, 1.4424, 1.441, 1.4393, 1.438, 1.4362, 1.4352, 1.435, 1.432, 1.4315, 1.4296, 1.4293, 1.4272, 1.4271, 1.4262, 1.4242, 1.4241, 1.4241, 1.4241, 1.4233, 1.4232, 1.4224, 1.4224, 1.4195, 1.3947, 1.3918, 1.3851, 1.3926, 1.4044, 1.3365, 1.3749, 1.3928, 1.3728, 1.4015, 1.3156, 1.3891, 1.2008, 1.2545, 1.2488, 1.2655, 1.2745, 1.3429, 1.3087, 1.2794, 1.3084, 1.0777, 1.2359, 1.159, 1.2148, 1.0989, 1.2602, 1.098, 1.2296, 0.945, 0.4892, 0.8213, 0.9363, 0.9637, 0.7377, 0.9051, 1.0594, 0.7645, 0.9218, 0.7718, 0.6362, 1.0062, 0.7944, 0.7768, 0.4924, 0.2164, 0.3134, 1.5678, 1.5651, 1.5593, 1.5542, 1.5532, 1.549, 1.5443, 1.5408, 1.5391, 1.5319, 1.5316, 1.5301, 1.5188, 1.5181, 1.5142, 1.5026, 1.5018, 1.5013, 1.4976, 1.4952, 1.4941, 1.4937, 1.4925, 1.4836, 1.483, 1.4826, 1.4812, 1.4801, 1.4773, 1.4769, 1.4711, 1.4594, 1.4501, 1.4462, 1.4643, 1.426, 1.3736, 1.405, 1.4487, 1.4359, 1.337, 1.4518, 1.4221, 1.281, 1.2571, 1.3039, 1.3509, 1.3533, 1.2389, 1.345, 1.2876, 0.917, 0.9649, 0.9733, 1.1338, 1.0998, 1.1159, 0.5355, 0.8439, 0.9894, 0.738, 1.0509, 1.0585, 1.1211, 0.7341, 0.6112, 0.9517, 0.6531, 0.4695, 1.129, 1.1237, 1.1232, 1.122, 1.1204, 1.1194, 1.1176, 1.1166, 1.1162, 1.1142, 1.1115, 1.111, 1.111, 1.1105, 1.1093, 1.1091, 1.1082, 1.1078, 1.1065, 1.1062, 1.105, 1.1049, 1.1037, 1.1029, 1.1019, 1.1018, 1.1014, 1.1011, 1.1001, 1.1, 1.0947, 1.0965, 1.084, 1.0876, 1.0936, 1.0853, 1.0904, 1.0931, 1.0514, 1.0756, 1.0566, 1.0887, 1.0192, 1.0486, 1.0716, 0.9579, 0.9987, 0.967, 0.9063, 0.8283, 0.9727, 0.957, 0.7702, 0.6044, 0.8343, 0.8686, 0.9679, 0.9562, 0.9248, 0.8572, 1.0392, 0.5691, 0.5219, 0.7118, 0.4882, 0.8189, 0.358, 0.273, 0.3309, 0.389, -0.0431, 0.2118, 0.2878, 0.1509, 0.1298, 0.379, 0.2824, -0.0881, 0.4226, 2.0626, 2.0536, 2.0437, 2.0367, 2.0177, 2.0088, 1.9976, 1.9921, 1.9901, 1.9885, 1.9878, 1.9821, 1.9788, 1.9623, 1.9555, 1.941, 1.9394, 1.9376, 1.9284, 1.9246, 1.916, 1.916, 1.9135, 1.9023, 1.9011, 1.8848, 1.8845, 1.8842, 1.8687, 1.8667, 1.848, 1.8569, 1.8264, 1.8243, 1.863, 1.8264, 1.7205, 1.8228, 1.7583, 1.4883, 1.6357, 1.5451, 1.4946, 1.4902, 1.5896, 1.0163, 1.502, 1.0907, 1.4824, 1.3887, 1.3326, 1.007, 1.2332, 0.575, 0.798, 0.4157, 1.0046, 0.6911, 0.6973, 0.2799, 0.1239, 0.4691, 1.0167, 0.1722, 0.2566, 2.0633, 2.0531, 2.0414, 2.0356, 2.0321, 2.0319, 2.0157, 2.0023, 1.9982, 1.9858, 1.9856, 1.983, 1.9756, 1.966, 1.9612, 1.9591, 1.9579, 1.9568, 1.9502, 1.9447, 1.9432, 1.9413, 1.9397, 1.9388, 1.9346, 1.9268, 1.9262, 1.9205, 1.9001, 1.8992, 1.8979, 1.897, 1.8848, 1.8749, 1.8279, 1.8711, 1.8364, 1.8132, 1.8393, 1.8411, 1.6709, 1.4691, 1.6274, 1.6457, 1.4057, 1.2515, 1.6427, 1.6938, 1.4195, 1.5376, 1.6027, 0.9624, 1.5828, 1.2556, 1.024, 1.3141, 1.6358, 1.425, 1.6995, 1.1383, 0.6104, 0.7445, 1.0993, 0.6926, 1.1654, 1.0661, 0.8446, -0.0]}, \"token.table\": {\"Topic\": [1, 2, 3, 4, 5, 2, 3, 2, 3, 5, 1, 2, 3, 4, 5, 1, 2, 3, 4, 5, 5, 4, 1, 2, 3, 4, 5, 2, 5, 2, 3, 4, 5, 5, 2, 3, 5, 1, 2, 3, 4, 5, 2, 3, 3, 4, 5, 1, 2, 3, 4, 5, 1, 3, 4, 5, 4, 1, 2, 3, 4, 5, 1, 2, 3, 4, 2, 3, 5, 2, 4, 5, 1, 2, 4, 5, 1, 3, 4, 5, 1, 2, 2, 5, 3, 1, 5, 3, 4, 2, 3, 1, 3, 4, 1, 2, 3, 4, 5, 2, 5, 3, 2, 5, 1, 1, 2, 3, 4, 5, 1, 2, 5, 1, 2, 3, 5, 4, 3, 2, 3, 5, 3, 3, 4, 1, 3, 4, 3, 4, 3, 2, 4, 3, 4, 3, 1, 2, 3, 5, 2, 3, 4, 5, 2, 3, 4, 5, 1, 3, 4, 5, 4, 1, 2, 3, 4, 1, 1, 1, 2, 3, 4, 3, 4, 5, 1, 3, 4, 1, 2, 3, 4, 1, 2, 3, 4, 1, 1, 2, 1, 2, 3, 4, 5, 2, 3, 4, 2, 4, 5, 2, 3, 5, 2, 3, 4, 5, 2, 5, 2, 3, 5, 2, 5, 1, 2, 3, 4, 5, 1, 5, 2, 3, 4, 5, 2, 3, 4, 5, 5, 2, 3, 4, 3, 5, 3, 2, 4, 1, 2, 3, 4, 5, 1, 2, 3, 4, 5, 5, 3, 4, 3, 2, 5, 2, 3, 4, 5, 1, 2, 4, 2, 4, 1, 2, 4, 5, 1, 3, 4, 1, 2, 3, 4, 5, 1, 3, 4, 1, 3, 1, 1, 2, 3, 5, 1, 2, 3, 4, 5, 3, 5, 2, 1, 2, 4, 1, 1, 2, 4, 1, 4, 5, 1, 3, 4, 1, 4, 2, 3, 4, 5, 1, 2, 3, 4, 1, 2, 5, 1, 2, 5, 1, 2, 5, 1, 4, 1, 2, 3, 4, 3, 1, 2, 3, 4, 5, 1, 2, 3, 4, 5, 1, 3, 2, 3, 4, 5, 1, 3, 1, 3, 1, 1, 1, 5, 3, 4, 5, 1, 1, 2, 3, 4, 5, 1, 2, 3, 4, 5, 1, 2, 3, 4, 5, 1, 2, 3, 4, 1, 2, 4, 5, 2, 3, 4, 5, 2, 4, 2, 3, 4, 5, 2, 3, 4, 5, 2, 3, 4, 5, 2, 3, 4, 5, 2, 2, 4, 1, 2, 3, 4, 5, 1, 2, 3, 4, 5, 1, 3, 4, 5, 3, 2, 3, 4, 5, 3, 1, 3, 4, 5, 1, 2, 3, 4, 5, 2, 3, 4, 5, 2, 3, 5, 1, 2, 3, 1, 3, 4, 1, 3, 4, 5, 1, 2, 3, 4, 5, 1, 2, 3, 4, 5, 1, 2, 3, 4, 5, 1, 1, 2, 3, 4, 5, 1, 3, 4, 5, 1, 2, 3, 4, 5, 1, 2, 3, 4, 5, 1, 2, 3, 5, 2, 3, 2, 3, 5, 1, 2, 4, 1, 2, 3, 4, 5, 2, 4, 2, 3, 2, 4, 3, 4, 3, 4, 5, 2, 4, 5, 1, 2, 3, 4, 1, 2, 3, 4, 2, 3, 4, 1, 2, 3, 4, 5, 2, 3, 5, 1, 2, 3, 4, 5, 2, 4, 2, 1, 3, 4, 5, 3, 1, 3, 2, 4, 1, 2, 3, 4, 5, 1, 3, 1, 4, 2, 4, 1, 2, 3, 4, 5, 2, 3, 4, 5, 2, 3, 4, 5, 1, 2, 3, 4, 5, 3, 1, 1, 3, 4, 1, 2, 3, 4, 5, 2, 5, 2, 5, 1, 2, 3, 4, 5, 1, 2, 3, 4, 1, 1, 2, 3, 4, 5, 1, 2, 4, 5, 3, 2, 3, 4, 5, 2, 3, 4, 5, 1, 2, 4, 5, 3, 3, 1, 2, 3, 4, 5, 3, 4, 2, 3, 4, 5, 5, 2, 5, 1, 2, 3, 4, 5, 1, 2, 4, 5, 4, 2, 3, 4, 5, 1, 2, 4, 5, 4, 1, 2, 3, 4, 5, 2, 3, 4, 2, 3, 4, 5, 4, 5, 3, 5, 1, 2, 3, 1, 2, 3, 4, 5, 3, 1, 4, 4, 5, 3, 4, 1, 2, 5, 5, 3, 3, 1, 2, 3, 4, 5, 1, 3, 4, 5, 2, 3, 4, 5, 1, 2, 3, 4, 5, 3, 1, 3, 5, 1, 2, 3, 4, 5, 2, 3, 4, 5, 1, 3, 4, 1, 2, 1, 2, 3, 4, 5, 1, 2, 3, 4, 5, 2, 3, 4, 5, 1, 2, 4, 5, 5, 1, 2, 3, 4, 5, 2, 3, 4, 5, 1, 2, 3, 4, 5, 2, 3, 5, 1, 3, 2, 1, 2, 3, 4, 5, 1, 3, 4, 5, 3, 3, 4, 3, 4, 5, 1, 3, 1, 1, 2, 3, 4, 5, 2, 3, 4, 5, 2, 3, 5, 2, 4, 1, 2, 3, 4, 5, 1, 2, 3, 4, 5, 1, 1, 3, 5, 1, 3, 4, 5, 1, 1, 2, 3, 4, 5, 2, 2, 4, 5, 3, 4, 5, 2, 4, 4, 5, 1, 2, 3, 4, 5, 1, 3, 4, 5, 2, 5, 3, 5, 1, 3, 3, 2, 3, 4, 5, 4, 2, 4, 5, 2, 3, 4, 5, 1, 2, 3, 4, 5, 1, 2, 3, 4, 5, 2, 4, 1, 2, 3, 5, 2, 3, 5, 5, 1, 1, 2, 3, 4, 5, 1, 3, 1, 2, 4, 5, 1, 2, 3, 4, 5, 1, 2, 3, 4, 5, 1, 3, 4, 2, 3, 5, 1, 1, 3, 4, 1, 2, 3, 4, 5, 1, 2, 3, 4, 5, 3, 3, 1, 1, 3, 4, 2, 5, 1, 2, 3, 4, 5], \"Freq\": [0.0035342648409990803, 0.5124684019448666, 0.37109780830490346, 0.021205589045994483, 0.09542515070697517, 0.7845957610445334, 0.20399489787157868, 0.7166073431137231, 0.19263638255745244, 0.09246546362757717, 0.00870185581203275, 0.5830243394061942, 0.21754639530081873, 0.052211134872196495, 0.14793154880455675, 0.017484361995351, 0.17484361995351003, 0.39339814489539754, 0.04371090498837751, 0.367171601902371, 0.9291947100637653, 0.9794431946877874, 0.015641179798046054, 0.21897651717264474, 0.0860264888892533, 0.1798735676775296, 0.5083383434364968, 0.07733018504188233, 0.8506320354607056, 0.2815635142810839, 0.3120028131222821, 0.3348322872531808, 0.06848842239269608, 0.9292953575899546, 0.15413367860908495, 0.23120051791362742, 0.6011213465754313, 0.010035385077029777, 0.3713092478501018, 0.20070770154059556, 0.34120309261901244, 0.07024769553920845, 0.9527734771383528, 0.03528790656067973, 0.9730777290328767, 0.08359070234674038, 0.8359070234674038, 0.03804072771664041, 0.15216291086656164, 0.566806842977942, 0.16357512918155376, 0.0836896009766089, 0.9700272268753709, 0.3979431088764659, 0.5536599775672568, 0.03460374859795355, 0.8967305439608148, 0.06005597255439062, 0.6305877118211015, 0.18016791766317186, 0.06005597255439062, 0.06005597255439062, 0.2087201237817645, 0.05218003094544112, 0.139146749187843, 0.6087670276968131, 0.9329649517552194, 0.08985457536997175, 0.8086911783297458, 0.13525529165506628, 0.03381382291376657, 0.8115317499303977, 0.10859057916849102, 0.6264841105874481, 0.10859057916849102, 0.15870930801548688, 0.6618248394745202, 0.29055724659856985, 0.024213103883214154, 0.03228413851095221, 0.9715235662110074, 0.9555709325556471, 0.8800958080146265, 0.055005988000914156, 0.9870672228767963, 0.9454452881525892, 0.027807214357429094, 0.9530041846640811, 0.030254101100447017, 0.8560834531293232, 0.12750179089160132, 0.840309798333744, 0.108929047932152, 0.031122585123472, 0.13292865408738863, 0.03467704019671008, 0.3409908952676491, 0.2485187880764222, 0.2485187880764222, 0.9662989235876291, 0.025428919041779716, 0.961817961413838, 0.06389411257512725, 0.9264646323393452, 0.9735003530276858, 0.10987764301333926, 0.5398336374133624, 0.12898679832000695, 0.14809595362667463, 0.07165933240000386, 0.043335226943882116, 0.043335226943882116, 0.8667045388776423, 0.600641099806088, 0.09193486221521757, 0.300320549903044, 0.006128990814347837, 0.9558216473080474, 0.9715751806410007, 0.12149472579140405, 0.2733631330306591, 0.6074736289570203, 0.9791233846928175, 0.162654191936226, 0.8132709596811301, 0.09789597887384843, 0.048947989436924216, 0.8321158204277117, 0.18463072559118324, 0.7754490474829696, 0.9770008441533773, 0.11167288106653527, 0.8561587548434371, 0.9557279880019951, 0.028961454181878638, 0.969953087079797, 0.06424803731573571, 0.08719376492849845, 0.7939221754015912, 0.055069746270630604, 0.09401443040415434, 0.04700721520207717, 0.07051082280311576, 0.7756190508342733, 0.10467924917312715, 0.03489308305770905, 0.0697861661154181, 0.7676478272695991, 0.15436913612108974, 0.12349530889687178, 0.07203893018984188, 0.6586416474499829, 0.8853360385895073, 0.918256173018715, 0.04832927226414289, 0.024164636132071444, 0.8986963379224939, 0.9636119521118189, 0.9666732823702414, 0.050243723778207426, 0.7871516725252496, 0.13398326340855313, 0.03349581585213828, 0.9699754915419411, 0.04186728931580008, 0.9629476542634019, 0.9673429775983494, 0.16532857995940242, 0.8266428997970121, 0.18181855497152954, 0.024793439314299483, 0.09917375725719793, 0.6942163008003855, 0.09771760160699486, 0.09771760160699486, 0.04885880080349743, 0.7817408128559589, 0.9672861933612691, 0.9250739647050297, 0.03426199869277888, 0.585789320693446, 0.05374213951316018, 0.295581767322381, 0.04836792556184417, 0.016122641853948055, 0.05402551399607106, 0.7563571959449948, 0.1890892989862487, 0.06026473706257868, 0.06026473706257868, 0.8437063188761015, 0.026667849927939802, 0.946708672441863, 0.026667849927939802, 0.548588289586689, 0.20211147511088542, 0.15158360633316406, 0.0938374705871968, 0.9327568512900272, 0.07462054810320216, 0.9515599835902224, 0.9889064839202645, 0.9284735647923439, 0.9268108550604952, 0.94932438378309, 0.07762613232457269, 0.6382593102242643, 0.02587537744152423, 0.04312562906920705, 0.21562814534603525, 0.9535309292383167, 0.01869668488702582, 0.156863972056505, 0.2654621065571623, 0.012066459388961923, 0.5671235912812104, 0.24564225481853652, 0.7274789854241274, 0.009447779031482174, 0.01889555806296435, 0.972009986548671, 0.126661619076773, 0.0633308095383865, 0.8233005239990245, 0.9615488186255147, 0.025987805908797693, 0.9662542120396849, 0.11983838598986128, 0.838868701929029, 0.038096306532273416, 0.057144459798410124, 0.19048153266136708, 0.6285890577825114, 0.07619261306454683, 0.28444188141963495, 0.09922391212312848, 0.3968956484925139, 0.09591644838569087, 0.12237615828519179, 0.9318655713989233, 0.9496159032346981, 0.04828555440176431, 0.9715701540193226, 0.05436002124235932, 0.9241203611201084, 0.26138559716538967, 0.058811759362212675, 0.24831631730712017, 0.43128623532289295, 0.3345434421872311, 0.1873443276248494, 0.4683608190621235, 0.11353208128826447, 0.8514906096619835, 0.010050193841931445, 0.8090406042754814, 0.055276066130622956, 0.12562742302414306, 0.8735860752508353, 0.10418916493817301, 0.016029102298180463, 0.7969226538374559, 0.01683639409515752, 0.14030328412631266, 0.01683639409515752, 0.02806065682526253, 0.8135634681914456, 0.1284573897144388, 0.05709217320641724, 0.9088601157871682, 0.05863613650239795, 0.9862450326969333, 0.03108561420395238, 0.07253309980922222, 0.8703971977106667, 0.02072374280263492, 0.01182571782891863, 0.34294581703864024, 0.08278002480243041, 0.5439830201302569, 0.02365143565783726, 0.9640870350822455, 0.024720180386724244, 0.9676132581134465, 0.061386809094463396, 0.15346702273615848, 0.7673351136807924, 0.9827495596585372, 0.10410989890991261, 0.8707373363374509, 0.01892907252907502, 0.07469762607628525, 0.07469762607628525, 0.8216738868391378, 0.8534756753893022, 0.12192509648418604, 0.020320849414031006, 0.019703520713962155, 0.9654725149841457, 0.32848581192234444, 0.221949872920503, 0.07102395933456096, 0.38175378142326516, 0.06415114259503955, 0.010691857099173257, 0.021383714198346514, 0.8981159963305536, 0.9648742846864276, 0.05709029885305457, 0.9134447816488731, 0.9735530159748338, 0.2325244845147369, 0.7626803092083371, 0.9457284144805729, 0.9211384381396421, 0.061409229209309475, 0.9807122292794972, 0.9457931726056618, 0.07646695338815278, 0.10923850484021826, 0.8083649358176151, 0.010923850484021827, 0.9682068903592459, 0.020201386329675296, 0.22221524962642827, 0.26766836886819767, 0.34342356760448006, 0.15151039747256473, 0.47971172511751425, 0.0815836267206657, 0.21864411961138405, 0.140323837959545, 0.0815836267206657, 0.6901508838471433, 0.3112445162447901, 0.20504940033257157, 0.3661596434510207, 0.08787831442824497, 0.3405284684094492, 0.9331133050440935, 0.06220755366960624, 0.9646827249142218, 0.031118797577878124, 0.9715195133875308, 0.9785864560033001, 0.9673118811500625, 0.9288830198121042, 0.2769443032388644, 0.059345207836899505, 0.6725790221515278, 0.9673105146627561, 0.21104699622650955, 0.2936306034455785, 0.2569267780148812, 0.16057923625930073, 0.07799562904023179, 0.3128331251506029, 0.08938089290017226, 0.5213885419176715, 0.04469044645008613, 0.0335178348375646, 0.37587265937241726, 0.06834048352225769, 0.47411210443566265, 0.06834048352225769, 0.017085120880564422, 0.843396549938495, 0.043623959479577326, 0.014541319826525775, 0.08724791895915465, 0.012508935716405507, 0.26268765004451566, 0.08756255001483855, 0.6254467858202754, 0.05542121150961877, 0.08313181726442816, 0.027710605754809384, 0.8313181726442815, 0.917576156609491, 0.07646467971745757, 0.8769022751296126, 0.06189898412679619, 0.030949492063398094, 0.02063299470893206, 0.12015027662293465, 0.030037569155733662, 0.060075138311467324, 0.7809767980490752, 0.08524671344989546, 0.08524671344989546, 0.028415571149965152, 0.7956359921990243, 0.12532559426600196, 0.02506511885320039, 0.7268884467428113, 0.12532559426600196, 0.912428186552029, 0.900635879245759, 0.07205087033966072, 0.07479259362041488, 0.7396156480241027, 0.13296461088073758, 0.016620576360092197, 0.033241152720184394, 0.12251457564025975, 0.011668054822881881, 0.8342659198360545, 0.023336109645763763, 0.005834027411440941, 0.01592590872504649, 0.27074044832579036, 0.07962954362523246, 0.6370363490018597, 0.9641528085474502, 0.007573354711440027, 0.840642372969843, 0.05301348298008019, 0.09845361124872035, 0.9840751550571745, 0.7843593328405671, 0.15466240365870337, 0.011047314547050241, 0.044189258188200964, 0.5901377408928054, 0.010444915768014254, 0.28723518362039197, 0.06266949460808552, 0.04700212095606414, 0.14632255639855904, 0.3365418797166858, 0.49749669175510075, 0.014632255639855905, 0.9268720268939409, 0.9738167686217328, 0.019476335372434657, 0.03618913688755974, 0.0542837053313396, 0.9047284221889934, 0.01633791399771121, 0.9475990118672503, 0.01633791399771121, 0.4962933838068826, 0.44114967449500675, 0.04901663049944519, 0.018381236437291948, 0.623173684688203, 0.008199653745897408, 0.20499134364743518, 0.1065954986966663, 0.05739757622128185, 0.08435262992491921, 0.40971277392103617, 0.036151127110679665, 0.42176314962459605, 0.04820150281423955, 0.5076450818101633, 0.04333555576428223, 0.2662041282663052, 0.14857904833468194, 0.037144762083670485, 0.963613409294549, 0.6729679467566956, 0.008412099334458694, 0.20189038402700868, 0.05047259600675217, 0.06729679467566956, 0.8043651304768972, 0.17874780677264382, 0.005958260225754794, 0.011916520451509588, 0.015573759444403212, 0.4672127833320963, 0.18688511333283853, 0.038934398611008024, 0.2881145497214594, 0.6853187579955459, 0.12320337222391836, 0.10780295069592856, 0.046201264583969386, 0.038501053819974485, 0.9216641317145464, 0.023333269157330288, 0.046666538314660576, 0.011666634578665144, 0.9463350098252626, 0.03785340039301051, 0.893328076825432, 0.05955520512169547, 0.029777602560847737, 0.031600305801417046, 0.9164088682410942, 0.031600305801417046, 0.4310720089721976, 0.02120026273633759, 0.4593390259539811, 0.08126767382262742, 0.0035333771227229315, 0.8573270627683455, 0.14288784379472425, 0.8915990672468903, 0.049533281513716124, 0.971109466222977, 0.9612811699009819, 0.9475691736022059, 0.04407298481870725, 0.04503901371140824, 0.9007802742281648, 0.04503901371140824, 0.8314944485995295, 0.05939246061425211, 0.09898743435708685, 0.030186579178317997, 0.08049754447551466, 0.8452242169929038, 0.030186579178317997, 0.049921571133540996, 0.07131653019077286, 0.5134790173735646, 0.37084595699201883, 0.04126032190406035, 0.12378096571218104, 0.7839461161771466, 0.17054687754266515, 0.1550426159478774, 0.4651278478436322, 0.19638731353397804, 0.01033617439652516, 0.5271464234042359, 0.4298270836988385, 0.03243977990179913, 0.0077523558332225915, 0.6124361108245847, 0.16279947249767443, 0.031009423332890366, 0.1860565399973422, 0.9206371529561374, 0.07464625564509221, 0.9552194880623708, 0.031245494269590987, 0.9061193338181386, 0.015622747134795494, 0.031245494269590987, 0.9855694515768119, 0.9229998960905682, 0.0717888808070442, 0.13493197518737626, 0.8545691761867164, 0.11454560135227121, 0.1298183481992407, 0.7330918486545357, 0.010181831231312995, 0.012727289039141245, 0.7597472692528929, 0.2370151737412871, 0.20119842754167896, 0.7880271745382427, 0.04914357541948197, 0.8845843575506755, 0.023176665839269958, 0.4264506514425672, 0.4264506514425672, 0.11124799602849579, 0.013905999503561974, 0.1487830142352441, 0.8307051628134462, 0.012398584519603673, 0.012398584519603673, 0.01913645794661195, 0.21050103741273146, 0.13395520562628366, 0.6315031122381944, 0.49048562211653235, 0.007847769953864518, 0.4277034624856162, 0.05101050470011936, 0.023543309861593552, 0.9663057504606772, 0.9538625526127232, 0.14491190687719263, 0.8332434645438577, 0.01811398835964908, 0.07700408974214211, 0.3368928926218717, 0.12513164583098094, 0.1058806233954454, 0.3561439150574073, 0.07402736655385153, 0.9130041874975023, 0.17591675416581573, 0.8041908761865862, 0.2409477770467996, 0.1468275516378935, 0.4442474639300367, 0.12423869753975604, 0.04141289917991868, 0.8980564858907932, 0.01870951012272486, 0.01870951012272486, 0.03741902024544972, 0.9892182418587581, 0.5679563921803652, 0.08414168773042448, 0.16828337546084896, 0.07362397676412141, 0.1051771096630306, 0.023526110547062988, 0.8469399796942676, 0.058815276367657474, 0.058815276367657474, 0.9910664355618172, 0.9124146689882825, 0.9302865219297198, 0.021142875498402724, 0.021142875498402724, 0.059289568147826495, 0.8419118676991362, 0.047431654518261195, 0.047431654518261195, 0.14621412750335663, 0.026584386818792112, 0.5848565100134265, 0.23925948136912903, 0.9641653665390163, 0.9730728856465546, 0.013463961318313794, 0.06731980659156897, 0.6900280175635819, 0.1884954584563931, 0.03702589362536293, 0.08277757348661731, 0.8277757348661731, 0.27265874060211875, 0.2385763980268539, 0.3408234257526484, 0.1533705415886918, 0.8136632596027115, 0.8878548264764075, 0.0522267544986122, 0.047151704740253146, 0.7544272758440503, 0.011787926185063287, 0.10609133566556958, 0.082515483295443, 0.015912370641915675, 0.7956185320957838, 0.0636494825676627, 0.1272989651353254, 0.8652659625199439, 0.5383777062110537, 0.2170877847625217, 0.09117686960025911, 0.15196144933376518, 0.01046029688201744, 0.8891252349714824, 0.01046029688201744, 0.08368237505613953, 0.8994169772377736, 0.008854591673448495, 0.5932576421210491, 0.07969132506103646, 0.15938265012207292, 0.15938265012207292, 0.8639057222027771, 0.08860571509772072, 0.04430285754886036, 0.32867644939762325, 0.4133355348485262, 0.14939838608982875, 0.10955881646587441, 0.05179902752991311, 0.8805834680085229, 0.9459929587657172, 0.04614599798857157, 0.11248769967926639, 0.8717796725143145, 0.9819128675755999, 0.05486354552553296, 0.7406578645946948, 0.10972709105106591, 0.05486354552553296, 0.041147659144149716, 0.9902533534287862, 0.060119945797775555, 0.9017991869666333, 0.10877520505709388, 0.8702016404567511, 0.10742220559687012, 0.8593776447749609, 0.054874977047414106, 0.9054371212823327, 0.027437488523707053, 0.9793676529466844, 0.986789016756468, 0.9641848068416469, 0.03883918704235079, 0.7088151635229019, 0.05825878056352618, 0.15535674816940315, 0.048548983802938483, 0.15488227336468077, 0.1393940460282127, 0.06195290934587231, 0.6350173207951911, 0.9483276557041749, 0.03469491423307957, 0.05179804583127171, 0.8805667791316191, 0.4963165287193554, 0.018728925612051146, 0.2809338841807672, 0.10300909086628131, 0.09832685946326852, 0.9618152865536393, 0.8218377217140455, 0.1643675443428091, 0.00966867907898877, 0.37320172419620246, 0.017416080462489446, 0.5859267069880378, 0.0037320172419620244, 0.019904091957130797, 0.8659792137868294, 0.050939953752166436, 0.008489992292027739, 0.07640993062824965, 0.9235707754728874, 0.026387736442082498, 0.052775472884164995, 0.05483220545047667, 0.9321474926581034, 0.17474099523299502, 0.04077289888769883, 0.48927478665238605, 0.27376089253169217, 0.0174740995232995, 0.011178414376486319, 0.10060572938837688, 0.25710353065918534, 0.5477423044478297, 0.08942731501189055, 0.058409771939481735, 0.33377012536846706, 0.14185230328159848, 0.45893392238164216, 0.1349764994093536, 0.2699529988187072, 0.0736235451323747, 0.5153648159266229, 0.902719515542703, 0.009824191652680584, 0.4273523368916054, 0.21613221635897284, 0.08841772487412525, 0.26034107879603546, 0.41761890807043184, 0.11778994843012179, 0.06424906278006644, 0.3962025538104097, 0.016253622398252326, 0.048760867194756974, 0.07314130079213546, 0.04063405599563081, 0.8208079311117424, 0.8852935947349831, 0.026827078628332824, 0.1073083145133313, 0.9433915034313547, 0.049652184391123934, 0.9728935132112091, 0.3453571352024592, 0.47309196603076603, 0.1088111521870762, 0.05204011626338426, 0.014192758980922981, 0.7838269279627942, 0.16217108854402637, 0.04054277213600659, 0.013514257378668865, 0.9834906253879754, 0.9642240689991607, 0.024410735924029384, 0.9661384095953528, 0.023564351453545188, 0.023564351453545188, 0.07688368242452444, 0.9097902420235392, 0.9636114995952523, 0.008238496669676671, 0.34807648429383936, 0.30688400094545604, 0.014417369171934175, 0.3213013701173902, 0.12191863489722717, 0.2926047237533452, 0.048767453958890865, 0.5333940276753688, 0.05189542921487106, 0.1902832404545272, 0.7611329618181089, 0.049138422795218364, 0.8844916103139306, 0.1116028535539056, 0.0139503566942382, 0.0558014267769528, 0.767269618183101, 0.0558014267769528, 0.014498135375445411, 0.11598508300356329, 0.10148694762811787, 0.7684011748986068, 0.014498135375445411, 0.9636307676968371, 0.8797293083496195, 0.09163846961975203, 0.018327693923950405, 0.7736358830341798, 0.07627396029914449, 0.021792560085469856, 0.14165164055555407, 0.9636158843839902, 0.021028632682852214, 0.778059409265532, 0.08411453073140886, 0.05607635382093924, 0.06308589804855665, 0.9898668422100154, 0.3934965623413292, 0.10416085473741066, 0.5034441312308182, 0.08996149283694369, 0.779666271253512, 0.14993582139490616, 0.43673029167626365, 0.5415455616785669, 0.9612679553793497, 0.9193054150886837, 0.8081720621791847, 0.014303930304056366, 0.10012751212839456, 0.05006375606419728, 0.028607860608112733, 0.06729378039059676, 0.1121563006509946, 0.15701882091139246, 0.6729378039059677, 0.1299187708834626, 0.8228188822619298, 0.1116476231753767, 0.8559651110112213, 0.9583503221324904, 0.034226797219017516, 0.9757545118362271, 0.02692467101624847, 0.10769868406499387, 0.8077401304874541, 0.05384934203249694, 0.9803513943478083, 0.047028820252473985, 0.8935475847970057, 0.047028820252473985, 0.11046985259597002, 0.42179398263915824, 0.03682328419865667, 0.4284891252207322, 0.024527681120644025, 0.08175893706881342, 0.34338753568901637, 0.5477848783610499, 0.7725953846320738, 0.24857101529640122, 0.3748293087802876, 0.07891143342742896, 0.07102029008468606, 0.22489758526817255, 0.8829547835330708, 0.08026861668482461, 0.8251168239257773, 0.023574766397879355, 0.14144859838727614, 0.011787383198939677, 0.09619443178516043, 0.04809721589258022, 0.865749886066444, 0.9423156841257172, 0.9666739327377712, 0.03375437225976539, 0.16202098684687385, 0.7628488130706977, 0.03375437225976539, 0.013501748903906156, 0.9232652116403786, 0.06839001567706508, 0.5776901524888856, 0.30113635608463185, 0.030728199600472638, 0.09218459880141791, 0.5202757033546539, 0.09459558242811889, 0.2364889560702972, 0.10551045732367106, 0.04729779121405944, 0.11521171784618993, 0.052368962657359054, 0.7384023734687627, 0.06284275518883087, 0.031421377594415434, 0.7261851345512745, 0.24690294574743332, 0.021785554036538233, 0.08307089190468454, 0.8860895136499685, 0.027690297301561514, 0.9706054409706464, 0.9009669057319358, 0.07207735245855487, 0.018019338114638718, 0.28407116208488575, 0.2257003753551147, 0.16732958862534367, 0.21791760379114522, 0.10506741611358787, 0.10933656885426443, 0.17962436311772015, 0.5388730893531604, 0.14838534344507315, 0.023429264754485236, 0.9744586381020761, 0.9757574902516134, 0.9511281587155572, 0.015866157947773643, 0.9202371609708713, 0.06346463179109457, 0.9206462217865286, 0.06137641478576857, 0.06735380081113372, 0.20879678251451453, 0.6533318678679971, 0.06061842073002035, 0.013470760162226744], \"Term\": [\"000\", \"000\", \"000\", \"000\", \"000\", \"1959\", \"1959\", \"1960\", \"1960\", \"1960\", \"1961\", \"1961\", \"1961\", \"1961\", \"1961\", \"30\", \"30\", \"30\", \"30\", \"30\", \"62\", \"academic\", \"act\", \"act\", \"act\", \"act\", \"act\", \"adjustments\", \"adjustments\", \"administration\", \"administration\", \"administration\", \"administration\", \"adopting\", \"agreement\", \"agreement\", \"agreement\", \"aid\", \"aid\", \"aid\", \"aid\", \"aid\", \"aircraft\", \"aircraft\", \"alexander\", \"allocation\", \"allocation\", \"american\", \"american\", \"american\", \"american\", \"american\", \"anne\", \"anti\", \"anti\", \"anti\", \"appearances\", \"areas\", \"areas\", \"areas\", \"areas\", \"areas\", \"art\", \"art\", \"art\", \"art\", \"assessment\", \"assigned\", \"assigned\", \"authorized\", \"authorized\", \"authorized\", \"available\", \"available\", \"available\", \"available\", \"away\", \"away\", \"away\", \"away\", \"baby\", \"bankers\", \"banks\", \"banks\", \"baseball\", \"bed\", \"bed\", \"berlin\", \"berlin\", \"billion\", \"billion\", \"black\", \"black\", \"black\", \"board\", \"board\", \"board\", \"board\", \"board\", \"boats\", \"boats\", \"bombs\", \"bonds\", \"bonds\", \"bride\", \"business\", \"business\", \"business\", \"business\", \"business\", \"calendar\", \"calendar\", \"calendar\", \"came\", \"came\", \"came\", \"came\", \"campus\", \"captain\", \"cars\", \"cars\", \"cars\", \"castro\", \"catholic\", \"catholic\", \"cattle\", \"cattle\", \"cattle\", \"chamber\", \"chamber\", \"charter\", \"chemical\", \"chemical\", \"china\", \"china\", \"chinese\", \"city\", \"city\", \"city\", \"city\", \"claim\", \"claim\", \"claim\", \"claim\", \"claims\", \"claims\", \"claims\", \"claims\", \"class\", \"class\", \"class\", \"class\", \"classical\", \"clay\", \"clay\", \"clay\", \"clerical\", \"cloth\", \"clothes\", \"co\", \"co\", \"co\", \"co\", \"coach\", \"coal\", \"coal\", \"coat\", \"collective\", \"collective\", \"college\", \"college\", \"college\", \"college\", \"colleges\", \"colleges\", \"colleges\", \"colleges\", \"colored\", \"colors\", \"colors\", \"come\", \"come\", \"come\", \"come\", \"come\", \"committee\", \"committee\", \"committee\", \"commodities\", \"commodities\", \"commodities\", \"communist\", \"communist\", \"communist\", \"company\", \"company\", \"company\", \"company\", \"compared\", \"compared\", \"components\", \"congo\", \"connections\", \"conservation\", \"coordination\", \"cost\", \"cost\", \"cost\", \"cost\", \"cost\", \"couldn\", \"couldn\", \"countries\", \"countries\", \"countries\", \"countries\", \"county\", \"county\", \"county\", \"county\", \"cousin\", \"creative\", \"creative\", \"creative\", \"cuba\", \"cuba\", \"cuban\", \"curriculum\", \"curriculum\", \"daily\", \"daily\", \"daily\", \"daily\", \"daily\", \"day\", \"day\", \"day\", \"day\", \"day\", \"definition\", \"democratic\", \"democratic\", \"democrats\", \"denied\", \"denied\", \"department\", \"department\", \"department\", \"department\", \"design\", \"design\", \"design\", \"designer\", \"designer\", \"development\", \"development\", \"development\", \"development\", \"didn\", \"didn\", \"didn\", \"don\", \"don\", \"don\", \"don\", \"don\", \"door\", \"door\", \"door\", \"drill\", \"drill\", \"dry\", \"east\", \"east\", \"east\", \"east\", \"education\", \"education\", \"education\", \"education\", \"education\", \"eisenhower\", \"eisenhower\", \"electronic\", \"engineer\", \"engineer\", \"engineer\", \"entrance\", \"equipment\", \"equipment\", \"equipment\", \"exercise\", \"exercise\", \"exercise\", \"eyes\", \"eyes\", \"eyes\", \"faculty\", \"faculty\", \"federal\", \"federal\", \"federal\", \"federal\", \"feed\", \"feed\", \"feed\", \"feed\", \"fig\", \"filing\", \"filing\", \"fingers\", \"fiscal\", \"fiscal\", \"flowers\", \"forests\", \"forests\", \"frames\", \"fulfill\", \"game\", \"game\", \"game\", \"game\", \"gen\", \"general\", \"general\", \"general\", \"general\", \"general\", \"good\", \"good\", \"good\", \"good\", \"good\", \"got\", \"got\", \"government\", \"government\", \"government\", \"government\", \"guests\", \"guests\", \"hadn\", \"hadn\", \"hair\", \"ham\", \"handsome\", \"hated\", \"hearing\", \"hearing\", \"hearing\", \"hell\", \"high\", \"high\", \"high\", \"high\", \"high\", \"home\", \"home\", \"home\", \"home\", \"home\", \"house\", \"house\", \"house\", \"house\", \"house\", \"inch\", \"inch\", \"inch\", \"inch\", \"income\", \"income\", \"income\", \"income\", \"india\", \"india\", \"india\", \"india\", \"industrial\", \"industrial\", \"industry\", \"industry\", \"industry\", \"industry\", \"insurance\", \"insurance\", \"insurance\", \"insurance\", \"interference\", \"interference\", \"interference\", \"interference\", \"interior\", \"interior\", \"interior\", \"interior\", \"inventories\", \"investment\", \"investment\", \"island\", \"island\", \"island\", \"island\", \"island\", \"john\", \"john\", \"john\", \"john\", \"john\", \"junior\", \"junior\", \"junior\", \"junior\", \"katanga\", \"kennedy\", \"kennedy\", \"kennedy\", \"kennedy\", \"khrushchev\", \"knew\", \"knew\", \"knew\", \"knew\", \"know\", \"know\", \"know\", \"know\", \"know\", \"labor\", \"labor\", \"labor\", \"labor\", \"laboratory\", \"laos\", \"laos\", \"leaders\", \"leaders\", \"leaders\", \"league\", \"league\", \"league\", \"left\", \"left\", \"left\", \"left\", \"let\", \"let\", \"let\", \"let\", \"let\", \"level\", \"level\", \"level\", \"level\", \"level\", \"life\", \"life\", \"life\", \"life\", \"life\", \"liked\", \"little\", \"little\", \"little\", \"little\", \"little\", \"ll\", \"ll\", \"ll\", \"ll\", \"local\", \"local\", \"local\", \"local\", \"local\", \"look\", \"look\", \"look\", \"look\", \"look\", \"looked\", \"looked\", \"looked\", \"looked\", \"machine\", \"machine\", \"machinery\", \"machinery\", \"machinery\", \"machines\", \"machines\", \"machines\", \"man\", \"man\", \"man\", \"man\", \"man\", \"manufacturers\", \"manufacturers\", \"manufacturing\", \"manufacturing\", \"marketing\", \"mathematics\", \"mayor\", \"mayor\", \"meat\", \"meat\", \"meat\", \"medical\", \"medical\", \"medical\", \"meeting\", \"meeting\", \"meeting\", \"meeting\", \"members\", \"members\", \"members\", \"members\", \"membership\", \"membership\", \"membership\", \"men\", \"men\", \"men\", \"men\", \"men\", \"military\", \"military\", \"military\", \"million\", \"million\", \"million\", \"million\", \"million\", \"missile\", \"missile\", \"missiles\", \"monday\", \"monday\", \"monday\", \"monday\", \"moscow\", \"mother\", \"mother\", \"motors\", \"motors\", \"mr\", \"mr\", \"mr\", \"mr\", \"mr\", \"mrs\", \"mrs\", \"music\", \"music\", \"musical\", \"musical\", \"national\", \"national\", \"national\", \"national\", \"national\", \"nations\", \"nations\", \"nations\", \"nations\", \"officer\", \"officer\", \"officer\", \"officer\", \"old\", \"old\", \"old\", \"old\", \"old\", \"opposition\", \"pale\", \"party\", \"party\", \"party\", \"pay\", \"pay\", \"pay\", \"pay\", \"pay\", \"payment\", \"payment\", \"payments\", \"payments\", \"people\", \"people\", \"people\", \"people\", \"people\", \"pieces\", \"pieces\", \"pieces\", \"pieces\", \"pink\", \"place\", \"place\", \"place\", \"place\", \"place\", \"planning\", \"planning\", \"planning\", \"planning\", \"player\", \"polaris\", \"police\", \"police\", \"police\", \"political\", \"political\", \"political\", \"political\", \"pool\", \"pool\", \"pool\", \"pool\", \"pope\", \"premier\", \"president\", \"president\", \"president\", \"president\", \"president\", \"prestige\", \"prestige\", \"problem\", \"problem\", \"problem\", \"problem\", \"proceedings\", \"procurement\", \"procurement\", \"production\", \"production\", \"production\", \"production\", \"production\", \"products\", \"products\", \"products\", \"products\", \"professors\", \"program\", \"program\", \"program\", \"program\", \"property\", \"property\", \"property\", \"property\", \"prosperity\", \"provide\", \"provide\", \"provide\", \"provide\", \"provide\", \"providence\", \"providence\", \"providence\", \"public\", \"public\", \"public\", \"public\", \"puerto\", \"puerto\", \"race\", \"race\", \"radiation\", \"radiation\", \"railroad\", \"range\", \"range\", \"range\", \"range\", \"range\", \"rayburn\", \"recognition\", \"recognition\", \"recommendation\", \"recommendation\", \"recorded\", \"recorded\", \"recreation\", \"recreation\", \"recreation\", \"rehabilitation\", \"republican\", \"republicans\", \"research\", \"research\", \"research\", \"research\", \"research\", \"return\", \"return\", \"return\", \"return\", \"rhode\", \"rhode\", \"rico\", \"rico\", \"right\", \"right\", \"right\", \"right\", \"right\", \"robinson\", \"room\", \"room\", \"room\", \"said\", \"said\", \"said\", \"said\", \"said\", \"sales\", \"sales\", \"sales\", \"sales\", \"sat\", \"sat\", \"sat\", \"savings\", \"savings\", \"school\", \"school\", \"school\", \"school\", \"school\", \"schools\", \"schools\", \"schools\", \"schools\", \"schools\", \"secretary\", \"secretary\", \"secretary\", \"secretary\", \"section\", \"section\", \"section\", \"section\", \"sectors\", \"service\", \"service\", \"service\", \"service\", \"service\", \"services\", \"services\", \"services\", \"services\", \"shall\", \"shall\", \"shall\", \"shall\", \"shall\", \"shares\", \"shares\", \"shares\", \"shelter\", \"shelter\", \"shipments\", \"small\", \"small\", \"small\", \"small\", \"small\", \"son\", \"son\", \"son\", \"son\", \"southern\", \"soviet\", \"soviet\", \"speaker\", \"speaker\", \"speaker\", \"st\", \"st\", \"stared\", \"state\", \"state\", \"state\", \"state\", \"state\", \"states\", \"states\", \"states\", \"states\", \"stations\", \"stations\", \"stations\", \"stockholders\", \"stockholders\", \"student\", \"student\", \"student\", \"student\", \"student\", \"students\", \"students\", \"students\", \"students\", \"students\", \"studio\", \"sun\", \"sun\", \"sun\", \"sure\", \"sure\", \"sure\", \"sure\", \"sweet\", \"system\", \"system\", \"system\", \"system\", \"system\", \"systems\", \"tax\", \"tax\", \"tax\", \"teachers\", \"teachers\", \"teachers\", \"technical\", \"technical\", \"tends\", \"thereof\", \"thought\", \"thought\", \"thought\", \"thought\", \"thought\", \"title\", \"title\", \"title\", \"title\", \"tractor\", \"tractor\", \"treasury\", \"treasury\", \"trees\", \"trees\", \"troops\", \"trust\", \"trust\", \"trust\", \"trust\", \"trustees\", \"unions\", \"unions\", \"unions\", \"united\", \"united\", \"united\", \"united\", \"university\", \"university\", \"university\", \"university\", \"upstairs\", \"use\", \"use\", \"use\", \"use\", \"use\", \"utility\", \"utility\", \"ve\", \"ve\", \"ve\", \"ve\", \"vehicles\", \"vehicles\", \"vehicles\", \"vocational\", \"walls\", \"war\", \"war\", \"war\", \"war\", \"war\", \"wasn\", \"wasn\", \"water\", \"water\", \"water\", \"water\", \"way\", \"way\", \"way\", \"way\", \"way\", \"week\", \"week\", \"week\", \"week\", \"week\", \"went\", \"went\", \"went\", \"west\", \"west\", \"west\", \"windows\", \"woman\", \"woman\", \"woman\", \"work\", \"work\", \"work\", \"work\", \"work\", \"world\", \"world\", \"world\", \"world\", \"world\", \"yankees\", \"yards\", \"yellow\", \"yesterday\", \"yesterday\", \"yesterday\", \"yield\", \"yield\", \"york\", \"york\", \"york\", \"york\", \"york\"]}, \"R\": 30, \"lambda.step\": 0.01, \"plot.opts\": {\"xlab\": \"PC1\", \"ylab\": \"PC2\"}, \"topic.order\": [1, 2, 3, 4, 5]};\n",
       "\n",
       "function LDAvis_load_lib(url, callback){\n",
       "  var s = document.createElement('script');\n",
       "  s.src = url;\n",
       "  s.async = true;\n",
       "  s.onreadystatechange = s.onload = callback;\n",
       "  s.onerror = function(){console.warn(\"failed to load library \" + url);};\n",
       "  document.getElementsByTagName(\"head\")[0].appendChild(s);\n",
       "}\n",
       "\n",
       "if(typeof(LDAvis) !== \"undefined\"){\n",
       "   // already loaded: just create the visualization\n",
       "   !function(LDAvis){\n",
       "       new LDAvis(\"#\" + \"ldavis_el11768268443183552080944687\", ldavis_el11768268443183552080944687_data);\n",
       "   }(LDAvis);\n",
       "}else if(typeof define === \"function\" && define.amd){\n",
       "   // require.js is available: use it to load d3/LDAvis\n",
       "   require.config({paths: {d3: \"https://d3js.org/d3.v5\"}});\n",
       "   require([\"d3\"], function(d3){\n",
       "      window.d3 = d3;\n",
       "      LDAvis_load_lib(\"https://cdn.jsdelivr.net/gh/bmabey/pyLDAvis@3.4.0/pyLDAvis/js/ldavis.v3.0.0.js\", function(){\n",
       "        new LDAvis(\"#\" + \"ldavis_el11768268443183552080944687\", ldavis_el11768268443183552080944687_data);\n",
       "      });\n",
       "    });\n",
       "}else{\n",
       "    // require.js not available: dynamically load d3 & LDAvis\n",
       "    LDAvis_load_lib(\"https://d3js.org/d3.v5.js\", function(){\n",
       "         LDAvis_load_lib(\"https://cdn.jsdelivr.net/gh/bmabey/pyLDAvis@3.4.0/pyLDAvis/js/ldavis.v3.0.0.js\", function(){\n",
       "                 new LDAvis(\"#\" + \"ldavis_el11768268443183552080944687\", ldavis_el11768268443183552080944687_data);\n",
       "            })\n",
       "         });\n",
       "}\n",
       "</script>"
      ],
      "text/plain": [
       "<IPython.core.display.HTML object>"
      ]
     },
     "execution_count": 30,
     "metadata": {},
     "output_type": "execute_result"
    }
   ],
   "source": [
    "pyLDAvis.display(lda_display)"
   ]
  },
  {
   "attachments": {},
   "cell_type": "markdown",
   "id": "a3d14c87",
   "metadata": {},
   "source": [
    "Q: What conclusions do you draw from the visualization above? Please address the principal component scatterplot and the salient terms graph.\n",
    "\n",
    "A: The PCA scatterplot suggests there isn't any overlap between them, with topics 4 and 2 being probably the most closely related.  This plot also gives us the relative size of the topics, with 3 and 1 being the largest.  The bar chart gives us infomration on the word distrubution for each topic.  A rapidly decreasing word distribution suggests a well pronounced topic, where as a slowly decreasing distribution suggests a less prounounced topic.  Topics 3 and 5 are the most pronounced topics, while 4 is the least. \n"
   ]
  }
 ],
 "metadata": {
  "kernelspec": {
   "display_name": "Python 3",
   "language": "python",
   "name": "python3"
  },
  "language_info": {
   "codemirror_mode": {
    "name": "ipython",
    "version": 3
   },
   "file_extension": ".py",
   "mimetype": "text/x-python",
   "name": "python",
   "nbconvert_exporter": "python",
   "pygments_lexer": "ipython3",
   "version": "3.8.8"
  }
 },
 "nbformat": 4,
 "nbformat_minor": 5
}
